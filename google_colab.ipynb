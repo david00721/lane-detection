{
 "cells": [
  {
   "cell_type": "code",
   "execution_count": null,
   "metadata": {},
   "outputs": [],
   "source": [
    "# Execute only on Colab\n",
    "!pip install segmentation-models-pytorch"
   ]
  },
  {
   "cell_type": "code",
   "execution_count": null,
   "metadata": {},
   "outputs": [],
   "source": [
    "# Execute only on Colab\n",
    "from google.colab import drive\n",
    "drive.mount(\"/content/drive\")"
   ]
  },
  {
   "cell_type": "code",
   "execution_count": 1,
   "metadata": {},
   "outputs": [],
   "source": [
    "import ast\n",
    "import os\n",
    "import json\n",
    "from tqdm import tqdm\n",
    "from time import time\n",
    "from dataclasses import dataclass\n",
    "\n",
    "import pandas as pd\n",
    "import matplotlib.pyplot as plt\n",
    "\n",
    "import torch\n",
    "from torch.utils.data import Dataset, TensorDataset, DataLoader\n",
    "from torchvision import transforms\n",
    "from torchvision.io import read_image, image\n",
    "from torchsummary import summary\n",
    "import segmentation_models_pytorch as smp\n",
    "\n",
    "device = torch.device(\"cuda\" if torch.cuda.is_available() else \"cpu\")"
   ]
  },
  {
   "cell_type": "code",
   "execution_count": 11,
   "metadata": {},
   "outputs": [],
   "source": [
    "A2D2_ROOT = \"C:/Git/AUDI_A2D2_dataset/\"  # User input required\n",
    "\n",
    "REPO_ROOT = os.getcwd()\n",
    "\n",
    "trainingDatasetRoot = os.path.join(A2D2_ROOT, \"preprocessed\")\n",
    "classesPath = os.path.join(A2D2_ROOT, \"class_list.json\")\n",
    "\n",
    "predictionsDir = os.path.join(REPO_ROOT, \"predictions\")\n",
    "checkpointsDir = os.path.join(REPO_ROOT, \"checkpoints\")\n",
    "encodedTensorPath = os.path.join(REPO_ROOT, \"encoded_tensors\")\n",
    "\n",
    "if not os.path.exists(predictionsDir):\n",
    "    os.makedirs(predictionsDir)\n",
    "if not os.path.exists(checkpointsDir):\n",
    "    os.makedirs(checkpointsDir)\n",
    "if not os.path.exists(encodedTensorPath):\n",
    "    os.makedirs(encodedTensorPath)"
   ]
  },
  {
   "cell_type": "code",
   "execution_count": 12,
   "metadata": {},
   "outputs": [],
   "source": [
    "class_names = [\n",
    "    \"Background\",\n",
    "    \"Solid line\",\n",
    "    \"Zebra crossing\",\n",
    "    \"RD restricted area\",\n",
    "    \"Drivable cobblestone\",\n",
    "    \"Traffic guide obj.\",\n",
    "    \"Dashed line\",\n",
    "    \"RD normal street\",\n",
    "]\n",
    "training_results = {\"train_loss\": [], \"val_loss\": [], \"train_acc\": [], \"val_acc\": []}\n",
    "\n",
    "model = smp.DeepLabV3(encoder_name=\"resnet34\", in_channels=3, encoder_depth=3, encoder_weights=\"imagenet\", aux_params=dict(dropout=0.35, classes=len(class_names))).to(device)\n",
    "\n",
    "encoder = model.encoder\n",
    "decoder = model.decoder"
   ]
  },
  {
   "cell_type": "code",
   "execution_count": 13,
   "metadata": {},
   "outputs": [],
   "source": [
    "@dataclass\n",
    "class CImageSize:\n",
    "    WIDTH: int = 416\n",
    "    HEIGHT: int = 224\n",
    "\n",
    "transformation_img = transforms.Compose([transforms.Resize((CImageSize.HEIGHT, CImageSize.WIDTH), antialias=True)])\n",
    "transformation_label = transforms.Compose([transforms.Resize((CImageSize.HEIGHT, CImageSize.WIDTH))])\n",
    "\n",
    "@dataclass\n",
    "class CParamsBase:\n",
    "    maxNumberOfFrames: int = None  # None -> full dataset\n",
    "    learning_rate: float = 0.01\n",
    "    training_counter: int = 0\n",
    "    encodingBatchSize: int = 64\n",
    "    log_frequency: int = 70\n",
    "\n",
    "    optimizer = torch.optim.Adam(decoder.parameters(), learning_rate)\n",
    "    criterion = torch.nn.CrossEntropyLoss()\n",
    "    amp = ast.literal_eval(\"True\")\n",
    "    scaler = torch.cuda.amp.GradScaler(enabled=amp)\n",
    "\n",
    "@dataclass\n",
    "class CParamsColab(CParamsBase):\n",
    "    batchSize: int = 64  # Batch size of the TRAINING\n",
    "    number_of_epochs: int = 30\n",
    "    chunk_size: int = 150\n",
    "\n",
    "@dataclass\n",
    "class CParamsLocal(CParamsBase):\n",
    "    batchSize: int = 16  # Batch size of the TRAINING\n",
    "    number_of_epochs: int = 30\n",
    "    chunk_size: int = 100"
   ]
  },
  {
   "cell_type": "code",
   "execution_count": 14,
   "metadata": {},
   "outputs": [],
   "source": [
    "# Define which params to use\n",
    "params = CParamsLocal()  # User input required"
   ]
  },
  {
   "cell_type": "code",
   "execution_count": 15,
   "metadata": {},
   "outputs": [
    {
     "name": "stdout",
     "output_type": "stream",
     "text": [
      "----------------------------------------------------------------\n",
      "        Layer (type)               Output Shape         Param #\n",
      "================================================================\n",
      "            Conv2d-1         [-1, 64, 112, 208]           9,408\n",
      "       BatchNorm2d-2         [-1, 64, 112, 208]             128\n",
      "              ReLU-3         [-1, 64, 112, 208]               0\n",
      "         MaxPool2d-4          [-1, 64, 56, 104]               0\n",
      "            Conv2d-5          [-1, 64, 56, 104]          36,864\n",
      "       BatchNorm2d-6          [-1, 64, 56, 104]             128\n",
      "              ReLU-7          [-1, 64, 56, 104]               0\n",
      "            Conv2d-8          [-1, 64, 56, 104]          36,864\n",
      "       BatchNorm2d-9          [-1, 64, 56, 104]             128\n",
      "             ReLU-10          [-1, 64, 56, 104]               0\n",
      "       BasicBlock-11          [-1, 64, 56, 104]               0\n",
      "           Conv2d-12          [-1, 64, 56, 104]          36,864\n",
      "      BatchNorm2d-13          [-1, 64, 56, 104]             128\n",
      "             ReLU-14          [-1, 64, 56, 104]               0\n",
      "           Conv2d-15          [-1, 64, 56, 104]          36,864\n",
      "      BatchNorm2d-16          [-1, 64, 56, 104]             128\n",
      "             ReLU-17          [-1, 64, 56, 104]               0\n",
      "       BasicBlock-18          [-1, 64, 56, 104]               0\n",
      "           Conv2d-19          [-1, 64, 56, 104]          36,864\n",
      "      BatchNorm2d-20          [-1, 64, 56, 104]             128\n",
      "             ReLU-21          [-1, 64, 56, 104]               0\n",
      "           Conv2d-22          [-1, 64, 56, 104]          36,864\n",
      "      BatchNorm2d-23          [-1, 64, 56, 104]             128\n",
      "             ReLU-24          [-1, 64, 56, 104]               0\n",
      "       BasicBlock-25          [-1, 64, 56, 104]               0\n",
      "           Conv2d-26          [-1, 128, 28, 52]          73,728\n",
      "      BatchNorm2d-27          [-1, 128, 28, 52]             256\n",
      "             ReLU-28          [-1, 128, 28, 52]               0\n",
      "           Conv2d-29          [-1, 128, 28, 52]         147,456\n",
      "      BatchNorm2d-30          [-1, 128, 28, 52]             256\n",
      "           Conv2d-31          [-1, 128, 28, 52]           8,192\n",
      "      BatchNorm2d-32          [-1, 128, 28, 52]             256\n",
      "             ReLU-33          [-1, 128, 28, 52]               0\n",
      "       BasicBlock-34          [-1, 128, 28, 52]               0\n",
      "           Conv2d-35          [-1, 128, 28, 52]         147,456\n",
      "      BatchNorm2d-36          [-1, 128, 28, 52]             256\n",
      "             ReLU-37          [-1, 128, 28, 52]               0\n",
      "           Conv2d-38          [-1, 128, 28, 52]         147,456\n",
      "      BatchNorm2d-39          [-1, 128, 28, 52]             256\n",
      "             ReLU-40          [-1, 128, 28, 52]               0\n",
      "       BasicBlock-41          [-1, 128, 28, 52]               0\n",
      "           Conv2d-42          [-1, 128, 28, 52]         147,456\n",
      "      BatchNorm2d-43          [-1, 128, 28, 52]             256\n",
      "             ReLU-44          [-1, 128, 28, 52]               0\n",
      "           Conv2d-45          [-1, 128, 28, 52]         147,456\n",
      "      BatchNorm2d-46          [-1, 128, 28, 52]             256\n",
      "             ReLU-47          [-1, 128, 28, 52]               0\n",
      "       BasicBlock-48          [-1, 128, 28, 52]               0\n",
      "           Conv2d-49          [-1, 128, 28, 52]         147,456\n",
      "      BatchNorm2d-50          [-1, 128, 28, 52]             256\n",
      "             ReLU-51          [-1, 128, 28, 52]               0\n",
      "           Conv2d-52          [-1, 128, 28, 52]         147,456\n",
      "      BatchNorm2d-53          [-1, 128, 28, 52]             256\n",
      "             ReLU-54          [-1, 128, 28, 52]               0\n",
      "       BasicBlock-55          [-1, 128, 28, 52]               0\n",
      "    ResNetEncoder-56  [[-1, 3, 224, 416], [-1, 64, 112, 208], [-1, 64, 56, 104], [-1, 128, 28, 52]]               0\n",
      "           Conv2d-57          [-1, 256, 28, 52]          32,768\n",
      "      BatchNorm2d-58          [-1, 256, 28, 52]             512\n",
      "             ReLU-59          [-1, 256, 28, 52]               0\n",
      "           Conv2d-60          [-1, 256, 28, 52]         294,912\n",
      "      BatchNorm2d-61          [-1, 256, 28, 52]             512\n",
      "             ReLU-62          [-1, 256, 28, 52]               0\n",
      "           Conv2d-63          [-1, 256, 28, 52]         294,912\n",
      "      BatchNorm2d-64          [-1, 256, 28, 52]             512\n",
      "             ReLU-65          [-1, 256, 28, 52]               0\n",
      "           Conv2d-66          [-1, 256, 28, 52]         294,912\n",
      "      BatchNorm2d-67          [-1, 256, 28, 52]             512\n",
      "             ReLU-68          [-1, 256, 28, 52]               0\n",
      "AdaptiveAvgPool2d-69            [-1, 128, 1, 1]               0\n",
      "           Conv2d-70            [-1, 256, 1, 1]          32,768\n",
      "      BatchNorm2d-71            [-1, 256, 1, 1]             512\n",
      "             ReLU-72            [-1, 256, 1, 1]               0\n",
      "           Conv2d-73          [-1, 256, 28, 52]         327,680\n",
      "      BatchNorm2d-74          [-1, 256, 28, 52]             512\n",
      "             ReLU-75          [-1, 256, 28, 52]               0\n",
      "          Dropout-76          [-1, 256, 28, 52]               0\n",
      "             ASPP-77          [-1, 256, 28, 52]               0\n",
      "           Conv2d-78          [-1, 256, 28, 52]         589,824\n",
      "      BatchNorm2d-79          [-1, 256, 28, 52]             512\n",
      "             ReLU-80          [-1, 256, 28, 52]               0\n",
      "           Conv2d-81            [-1, 1, 28, 52]             257\n",
      "UpsamplingBilinear2d-82          [-1, 1, 224, 416]               0\n",
      "         Identity-83          [-1, 1, 224, 416]               0\n",
      "       Activation-84          [-1, 1, 224, 416]               0\n",
      "AdaptiveAvgPool2d-85            [-1, 128, 1, 1]               0\n",
      "          Flatten-86                  [-1, 128]               0\n",
      "          Dropout-87                  [-1, 128]               0\n",
      "           Linear-88                    [-1, 8]           1,032\n",
      "         Identity-89                    [-1, 8]               0\n",
      "       Activation-90                    [-1, 8]               0\n",
      "================================================================\n",
      "Total params: 3,220,553\n",
      "Trainable params: 3,220,553\n",
      "Non-trainable params: 0\n",
      "----------------------------------------------------------------\n",
      "Input size (MB): 1.07\n",
      "Forward/backward pass size (MB): 198.37\n",
      "Params size (MB): 12.29\n",
      "Estimated Total Size (MB): 211.72\n",
      "----------------------------------------------------------------\n"
     ]
    }
   ],
   "source": [
    "summary(model, (3, CImageSize.HEIGHT, CImageSize.WIDTH))"
   ]
  },
  {
   "cell_type": "code",
   "execution_count": 16,
   "metadata": {},
   "outputs": [],
   "source": [
    "class CEncoderReader:\n",
    "    def __init__(self, f_datasetRoot: str, f_classesPath: str, f_maxNumberOfFrames: int = None) -> None:\n",
    "        self.m_datasetRoot: str = f_datasetRoot\n",
    "        self.m_framePaths: list[str] = []\n",
    "        self.m_labelPaths: list[str] = []\n",
    "        self.m_imageExtensions: list[str] = [\".jpg\", \".jpeg\", \".png\"]\n",
    "        self.m_labelClasses: dict[str, str] = {}\n",
    "        self.m_classesPath: str = f_classesPath\n",
    "\n",
    "        self.collectA2D2DataPaths()\n",
    "        self.loadClasses()\n",
    "\n",
    "        if f_maxNumberOfFrames:\n",
    "            self.m_framePaths = self.m_framePaths[:f_maxNumberOfFrames]\n",
    "            self.m_labelPaths = self.m_labelPaths[:f_maxNumberOfFrames]\n",
    "\n",
    "    def collectA2D2DataPaths(self) -> None:\n",
    "        \"\"\"Collect image paths and label paths from the A2D2 dataset.\"\"\"\n",
    "        l_sceneFolders: list[str] = [d for d in os.listdir(self.m_datasetRoot) if os.path.isdir(os.path.join(self.m_datasetRoot, d))]\n",
    "\n",
    "        for sceneFolder in l_sceneFolders:\n",
    "            frames_folders = [f.path for f in os.scandir(os.path.join(self.m_datasetRoot, sceneFolder, \"camera\")) if f.is_dir()]\n",
    "            labels_folders = [f.path for f in os.scandir(os.path.join(self.m_datasetRoot, sceneFolder, \"label\")) if f.is_dir()]\n",
    "\n",
    "            self.collectFramePaths(frames_folders)\n",
    "            self.collectLabelPaths(labels_folders)\n",
    "\n",
    "    def collectFramePaths(self, f_folders: list[str]) -> None:\n",
    "        for path in f_folders:\n",
    "            l_cameraImages = sorted([img for img in os.listdir(path) if os.path.splitext(img)[1].lower() in self.m_imageExtensions])\n",
    "            self.m_framePaths.extend([os.path.join(path, camera_img) for camera_img in l_cameraImages])\n",
    "\n",
    "    def collectLabelPaths(self, f_folders: list[str]) -> None:\n",
    "        for path in f_folders:\n",
    "            l_labelImages = sorted([img for img in os.listdir(path) if os.path.splitext(img)[1].lower() in self.m_imageExtensions])\n",
    "            self.m_labelPaths.extend([os.path.join(path, label_img) for label_img in l_labelImages])\n",
    "\n",
    "    def loadClasses(self) -> None:\n",
    "        with open(self.m_classesPath, \"r\") as json_file:\n",
    "            self.m_labelClasses = json.load(json_file)\n",
    "\n",
    "\n",
    "class CEncoderDataset(Dataset):\n",
    "    def __init__(self, f_reader: CEncoderReader, f_transformationImage: transforms.Compose, f_transformationLabel: transforms.Compose) -> None:\n",
    "        self.m_dataPaths: list[tuple[str, str]] = list(zip(f_reader.m_framePaths, f_reader.m_labelPaths))\n",
    "        self.m_transformationImage: transforms.Compose = f_transformationImage\n",
    "        self.m_transformationLabel: transforms.Compose = f_transformationLabel\n",
    "        self.m_filteredClasses: dict[str, int] = {k: v for k, v in f_reader.m_labelClasses.items() if v in class_names}\n",
    "        self.m_RGB2IDs: dict[tuple[int, int, int], int] = self.convertClassesToIDs(self.m_filteredClasses)\n",
    "        self.m_numberOfClasses: int = len(self.m_filteredClasses)\n",
    "\n",
    "    def __len__(self) -> int:\n",
    "        return len(self.m_dataPaths)\n",
    "\n",
    "    def __getitem__(self, f_index: int) -> tuple[torch.Tensor, torch.Tensor]:\n",
    "        framePath, labelPath = self.m_dataPaths[f_index]\n",
    "\n",
    "        frame = read_image(framePath, mode=image.ImageReadMode.RGB)\n",
    "        # frame = self.m_transformationImage(frame)\n",
    "\n",
    "        label = read_image(labelPath, mode=image.ImageReadMode.RGB)\n",
    "        # label = self.m_transformationLabel(label)\n",
    "\n",
    "        id_map = CEncoderDataset.convertLabelToClassIDMap(label, self.m_RGB2IDs)\n",
    "\n",
    "        return torch.div(frame, 255).to(torch.float16).to(device), torch.nn.functional.one_hot(id_map.long(), num_classes=len(class_names)).permute(2, 0, 1).to(torch.int8)\n",
    "\n",
    "    @staticmethod\n",
    "    def convertHexaClassColorsToRBG(f_labelClasses: dict[int, int]) -> dict[str, tuple[int, int, int]]:\n",
    "        return {k: tuple(int(k.lstrip(\"#\")[i : i + 2], 16) for i in range(0, 6, 2)) for k in f_labelClasses.keys()}\n",
    "\n",
    "    @staticmethod\n",
    "    def convertClassesToIDs(f_labelClasses: dict[int, int]) -> dict[tuple[int, int, int], int]:\n",
    "        hexaToTGB = CEncoderDataset.convertHexaClassColorsToRBG(f_labelClasses)\n",
    "        return {r: i for i, r in enumerate(hexaToTGB.values())}\n",
    "\n",
    "    @staticmethod\n",
    "    def convertLabelToClassIDMap(f_label: torch.Tensor, f_RGB2IDs: dict[tuple[int, int, int], int]) -> torch.Tensor:\n",
    "        mask = torch.zeros(CImageSize.HEIGHT, CImageSize.WIDTH)\n",
    "        for rgb_code, class_id in f_RGB2IDs.items():\n",
    "            color_mask = f_label == torch.Tensor(rgb_code).reshape([3, 1, 1])\n",
    "            seg_mask = color_mask.sum(dim=0) == 3\n",
    "            mask[seg_mask] = class_id\n",
    "\n",
    "        return mask"
   ]
  },
  {
   "cell_type": "code",
   "execution_count": 17,
   "metadata": {},
   "outputs": [
    {
     "name": "stdout",
     "output_type": "stream",
     "text": [
      "Encoder dataset loaded with size:  36905\n"
     ]
    }
   ],
   "source": [
    "training_to_encoder_reader = CEncoderReader(trainingDatasetRoot, classesPath, params.maxNumberOfFrames)\n",
    "training_to_encoder_dataset = CEncoderDataset(training_to_encoder_reader, transformation_img, transformation_label)\n",
    "training_to_encoder_loader = DataLoader(training_to_encoder_dataset, batch_size=params.encodingBatchSize, shuffle=True)\n",
    "\n",
    "print(\"Encoder dataset loaded with size: \", len(training_to_encoder_dataset))"
   ]
  },
  {
   "cell_type": "code",
   "execution_count": 18,
   "metadata": {},
   "outputs": [],
   "source": [
    "def save_encoded_tensors():\n",
    "    with torch.no_grad():\n",
    "        for i, (frame, label) in enumerate(tqdm(training_to_encoder_loader)):\n",
    "            torch.save(encoder(frame)[-1].cpu().to(torch.float16), os.path.join(encodedTensorPath, f\"encoded_tensor_{i}.pt\"))\n",
    "            torch.save(label.cpu().to(torch.int8), os.path.join(encodedTensorPath, f\"encoded_label_{i}.pt\"))\n",
    "\n",
    "def encode_tensors():\n",
    "    encoder.half()\n",
    "    encoder.eval()\n",
    "\n",
    "    for param in encoder.parameters():\n",
    "        param.requires_grad = False\n",
    "\n",
    "    start_time = time()\n",
    "    save_encoded_tensors()\n",
    "    end_time = time()\n",
    "    print(f\"Encoding and saving time: {end_time - start_time:.2f} seconds for {params.maxNumberOfFrames} frames.\")\n",
    "\n",
    "def updateTrainingResults(f_trainingResults: dict[str, list[float]], f_trainLoss: float, f_valLoss: float, f_trainAcc: float, f_valAcc: float) -> None:\n",
    "    f_trainingResults[\"train_loss\"].append(round(f_trainLoss, 4))\n",
    "    f_trainingResults[\"val_loss\"].append(round(f_valLoss, 4))\n",
    "    f_trainingResults[\"train_acc\"].append(round(f_trainAcc, 4))\n",
    "    f_trainingResults[\"val_acc\"].append(round(f_valAcc, 4))\n",
    "\n",
    "\n",
    "def savePredictions(f_masks: torch.Tensor, f_predicted: torch.Tensor, f_epoch: int, f_iter: int, f_trainingCnt: int) -> None:\n",
    "    num_images = min(f_masks.shape[0], 10)\n",
    "    _, axs = plt.subplots(num_images, 2, figsize=(10, 2 * num_images))\n",
    "\n",
    "    for i in range(num_images):\n",
    "        axs[i, 0].imshow(f_masks[i].squeeze().cpu().numpy())\n",
    "        axs[i, 0].axis(\"off\")\n",
    "\n",
    "        axs[i, 1].imshow(f_predicted[i].squeeze().cpu().numpy())\n",
    "        axs[i, 1].axis(\"off\")\n",
    "\n",
    "    # Set title for each column\n",
    "    axs[0, 0].set_title(\"Label\")\n",
    "    axs[0, 1].set_title(\"Prediction\")\n",
    "\n",
    "    plt.subplots_adjust(wspace=0.5, hspace=0.5)\n",
    "    plt.savefig(os.path.join(predictionsDir, f\"prediction_training_{f_trainingCnt}_epoch_{f_epoch}_iter_{f_iter}.png\"))\n",
    "    plt.close()\n",
    "\n",
    "\n",
    "def saveCheckpoint(f_name: str, f_decoder, f_optimizer, f_training_results, f_trainingCnt: int) -> None:\n",
    "    torch.save(\n",
    "        {\n",
    "            \"training_counter\": f_trainingCnt,\n",
    "            \"model_state_dict\": f_decoder.state_dict(),\n",
    "            \"optimizer_state_dict\": f_optimizer.state_dict(),\n",
    "            \"val_accuracy\": f_training_results[\"val_acc\"][-1],\n",
    "        },\n",
    "        os.path.join(checkpointsDir, f_name),  # Checkpoint dir is not param\n",
    "    )\n",
    "\n",
    "\n",
    "def logTrainingResults(f_epoch: int, f_trainingResults: dict[str, list[float]]) -> None:\n",
    "    print(\n",
    "        f\"Epoch {f_epoch} results:\\n \\\n",
    "        Training_loss: {f_trainingResults['train_loss'][-1]:.4f}, \\\n",
    "        Val_loss: {f_trainingResults['val_loss'][-1]:.4f}, \\\n",
    "        Train_accuracy: {f_trainingResults['train_acc'][-1]:.2f}%, \\\n",
    "        Val_accuracy: {f_trainingResults['val_acc'][-1]:.2f}%\"\n",
    "    )\n",
    "\n",
    "\n",
    "def train(f_trainingLoader: DataLoader, f_validationLoader: DataLoader, f_trainingResults: dict[str, list[float]], f_trainingCnt: int):\n",
    "    torch.cuda.empty_cache()\n",
    "    print(\"Starting Training\")\n",
    "\n",
    "    for epoch in range(0, params.number_of_epochs):\n",
    "        correct, total = 0, 0\n",
    "\n",
    "        for i, batch_tr in enumerate(tqdm(f_trainingLoader)):\n",
    "            decoder.train()\n",
    "            inputs, masks = batch_tr[0].to(device), batch_tr[1].to(device).argmax(dim=1)\n",
    "            params.optimizer.zero_grad()\n",
    "            with torch.cuda.amp.autocast(enabled=params.amp):\n",
    "\n",
    "                outputs = decoder(inputs)\n",
    "                outputs_upsampled = torch.nn.functional.interpolate(outputs, size=masks.shape[1:], mode='bilinear', align_corners=False)\n",
    "                training_loss = params.criterion(outputs_upsampled, masks)\n",
    "                _, predicted = torch.max(outputs_upsampled, 1)\n",
    "                total += masks.nelement()\n",
    "                correct += (predicted == masks).sum().item()\n",
    "\n",
    "            params.scaler.scale(training_loss).backward()\n",
    "            params.scaler.step(params.optimizer)\n",
    "            params.scaler.update()\n",
    "\n",
    "            if i > 0 and (i % params.log_frequency == 0 or i == len(f_trainingLoader) - 1):\n",
    "                train_accuracy = 100 * correct / total\n",
    "                val_losses = []\n",
    "                correct, total = 0, 0\n",
    "                decoder.eval()\n",
    "                with torch.no_grad(), torch.cuda.amp.autocast(enabled=params.amp):\n",
    "\n",
    "                    for j, batch_vl in enumerate(f_validationLoader):\n",
    "                        inputs, masks = batch_vl[0].to(device), batch_vl[1].to(device).argmax(dim=1)\n",
    "                        outputs = decoder(inputs)\n",
    "                        outputs_upsampled = torch.nn.functional.interpolate(outputs, size=masks.shape[1:], mode=\"bilinear\", align_corners=False)\n",
    "                        val_loss = params.criterion(outputs_upsampled, masks)\n",
    "                        _, predicted = torch.max(outputs_upsampled, 1)\n",
    "                        total += masks.nelement()\n",
    "                        correct += (predicted == masks).sum().item()\n",
    "                        val_losses.append(val_loss)\n",
    "\n",
    "                        if j == 0:\n",
    "                            savePredictions(masks, predicted, epoch, i, f_trainingCnt)\n",
    "\n",
    "                avg_val_loss = torch.mean(torch.stack(val_losses))\n",
    "                val_accuracy = 100 * correct / total\n",
    "                updateTrainingResults(f_trainingResults, float(training_loss), float(avg_val_loss), train_accuracy, val_accuracy)\n",
    "\n",
    "        logTrainingResults(epoch, f_trainingResults)\n",
    "        # saveCheckpoint(epoch, f\"checkpoint_epoch_{epoch}.pth\", decoder, optimizer, f_trainingResults)\n",
    "\n",
    "    saveCheckpoint(f\"training_{f_trainingCnt}_checkpoint.pth\", decoder, params.optimizer, f_trainingResults, f_trainingCnt)\n",
    "    saveCheckpoint(f\"final_checkpoint.pth\", decoder, params.optimizer, f_trainingResults, f_trainingCnt)\n",
    "\n",
    "    df = pd.DataFrame(f_trainingResults)\n",
    "\n",
    "    df.to_csv(os.path.join(checkpointsDir, f\"training_{f_trainingCnt}_results.csv\"))\n",
    "    print(\"Finished Training\")"
   ]
  },
  {
   "cell_type": "code",
   "execution_count": 9,
   "metadata": {},
   "outputs": [],
   "source": [
    "if not os.listdir(encodedTensorPath):\n",
    "    encode_tensors()"
   ]
  },
  {
   "cell_type": "code",
   "execution_count": 19,
   "metadata": {},
   "outputs": [
    {
     "name": "stdout",
     "output_type": "stream",
     "text": [
      "Training chunk 1 of 6\n",
      "Loading encoded tensors and labels...\n"
     ]
    },
    {
     "name": "stderr",
     "output_type": "stream",
     "text": [
      "100%|██████████| 100/100 [00:06<00:00, 15.55it/s]\n",
      "100%|██████████| 100/100 [00:07<00:00, 14.25it/s]\n"
     ]
    },
    {
     "name": "stdout",
     "output_type": "stream",
     "text": [
      "Starting Training\n"
     ]
    },
    {
     "name": "stderr",
     "output_type": "stream",
     "text": [
      "100%|██████████| 320/320 [04:01<00:00,  1.33it/s]\n"
     ]
    },
    {
     "name": "stdout",
     "output_type": "stream",
     "text": [
      "Epoch 0 results:\n",
      "         Training_loss: 0.0793,         Val_loss: 0.0724,         Train_accuracy: 97.48%,         Val_accuracy: 97.49%\n"
     ]
    },
    {
     "name": "stderr",
     "output_type": "stream",
     "text": [
      "100%|██████████| 320/320 [04:00<00:00,  1.33it/s]\n"
     ]
    },
    {
     "name": "stdout",
     "output_type": "stream",
     "text": [
      "Epoch 1 results:\n",
      "         Training_loss: 0.0586,         Val_loss: 0.0702,         Train_accuracy: 97.62%,         Val_accuracy: 97.59%\n"
     ]
    },
    {
     "name": "stderr",
     "output_type": "stream",
     "text": [
      "100%|██████████| 320/320 [03:57<00:00,  1.35it/s]\n"
     ]
    },
    {
     "name": "stdout",
     "output_type": "stream",
     "text": [
      "Epoch 2 results:\n",
      "         Training_loss: 0.0578,         Val_loss: 0.0681,         Train_accuracy: 97.67%,         Val_accuracy: 97.64%\n"
     ]
    },
    {
     "name": "stderr",
     "output_type": "stream",
     "text": [
      "100%|██████████| 320/320 [03:54<00:00,  1.37it/s]\n"
     ]
    },
    {
     "name": "stdout",
     "output_type": "stream",
     "text": [
      "Epoch 3 results:\n",
      "         Training_loss: 0.0514,         Val_loss: 0.0685,         Train_accuracy: 97.67%,         Val_accuracy: 97.65%\n"
     ]
    },
    {
     "name": "stderr",
     "output_type": "stream",
     "text": [
      "100%|██████████| 320/320 [03:55<00:00,  1.36it/s]\n"
     ]
    },
    {
     "name": "stdout",
     "output_type": "stream",
     "text": [
      "Epoch 4 results:\n",
      "         Training_loss: 0.0638,         Val_loss: 0.0687,         Train_accuracy: 97.73%,         Val_accuracy: 97.66%\n"
     ]
    },
    {
     "name": "stderr",
     "output_type": "stream",
     "text": [
      "100%|██████████| 320/320 [03:55<00:00,  1.36it/s]\n"
     ]
    },
    {
     "name": "stdout",
     "output_type": "stream",
     "text": [
      "Epoch 5 results:\n",
      "         Training_loss: 0.0550,         Val_loss: 0.0695,         Train_accuracy: 97.72%,         Val_accuracy: 97.64%\n"
     ]
    },
    {
     "name": "stderr",
     "output_type": "stream",
     "text": [
      "100%|██████████| 320/320 [03:54<00:00,  1.36it/s]\n"
     ]
    },
    {
     "name": "stdout",
     "output_type": "stream",
     "text": [
      "Epoch 6 results:\n",
      "         Training_loss: 0.0615,         Val_loss: 0.0699,         Train_accuracy: 97.76%,         Val_accuracy: 97.64%\n"
     ]
    },
    {
     "name": "stderr",
     "output_type": "stream",
     "text": [
      "100%|██████████| 320/320 [04:00<00:00,  1.33it/s]\n"
     ]
    },
    {
     "name": "stdout",
     "output_type": "stream",
     "text": [
      "Epoch 7 results:\n",
      "         Training_loss: 0.0649,         Val_loss: 0.0713,         Train_accuracy: 97.76%,         Val_accuracy: 97.63%\n"
     ]
    },
    {
     "name": "stderr",
     "output_type": "stream",
     "text": [
      "100%|██████████| 320/320 [04:03<00:00,  1.32it/s]\n"
     ]
    },
    {
     "name": "stdout",
     "output_type": "stream",
     "text": [
      "Epoch 8 results:\n",
      "         Training_loss: 0.0659,         Val_loss: 0.0706,         Train_accuracy: 97.77%,         Val_accuracy: 97.65%\n"
     ]
    },
    {
     "name": "stderr",
     "output_type": "stream",
     "text": [
      "100%|██████████| 320/320 [04:02<00:00,  1.32it/s]\n"
     ]
    },
    {
     "name": "stdout",
     "output_type": "stream",
     "text": [
      "Epoch 9 results:\n",
      "         Training_loss: 0.0520,         Val_loss: 0.0699,         Train_accuracy: 97.80%,         Val_accuracy: 97.65%\n"
     ]
    },
    {
     "name": "stderr",
     "output_type": "stream",
     "text": [
      "100%|██████████| 320/320 [03:56<00:00,  1.35it/s]\n"
     ]
    },
    {
     "name": "stdout",
     "output_type": "stream",
     "text": [
      "Epoch 10 results:\n",
      "         Training_loss: 0.0677,         Val_loss: 0.0707,         Train_accuracy: 97.77%,         Val_accuracy: 97.64%\n"
     ]
    },
    {
     "name": "stderr",
     "output_type": "stream",
     "text": [
      "100%|██████████| 320/320 [03:55<00:00,  1.36it/s]\n"
     ]
    },
    {
     "name": "stdout",
     "output_type": "stream",
     "text": [
      "Epoch 11 results:\n",
      "         Training_loss: 0.0467,         Val_loss: 0.0734,         Train_accuracy: 97.80%,         Val_accuracy: 97.58%\n"
     ]
    },
    {
     "name": "stderr",
     "output_type": "stream",
     "text": [
      "100%|██████████| 320/320 [03:55<00:00,  1.36it/s]\n"
     ]
    },
    {
     "name": "stdout",
     "output_type": "stream",
     "text": [
      "Epoch 12 results:\n",
      "         Training_loss: 0.0598,         Val_loss: 0.0725,         Train_accuracy: 97.78%,         Val_accuracy: 97.62%\n"
     ]
    },
    {
     "name": "stderr",
     "output_type": "stream",
     "text": [
      "100%|██████████| 320/320 [03:55<00:00,  1.36it/s]\n"
     ]
    },
    {
     "name": "stdout",
     "output_type": "stream",
     "text": [
      "Epoch 13 results:\n",
      "         Training_loss: 0.0435,         Val_loss: 0.0720,         Train_accuracy: 97.80%,         Val_accuracy: 97.63%\n"
     ]
    },
    {
     "name": "stderr",
     "output_type": "stream",
     "text": [
      "100%|██████████| 320/320 [03:55<00:00,  1.36it/s]\n"
     ]
    },
    {
     "name": "stdout",
     "output_type": "stream",
     "text": [
      "Epoch 14 results:\n",
      "         Training_loss: 0.0521,         Val_loss: 0.0726,         Train_accuracy: 97.81%,         Val_accuracy: 97.63%\n"
     ]
    },
    {
     "name": "stderr",
     "output_type": "stream",
     "text": [
      "100%|██████████| 320/320 [03:55<00:00,  1.36it/s]\n"
     ]
    },
    {
     "name": "stdout",
     "output_type": "stream",
     "text": [
      "Epoch 15 results:\n",
      "         Training_loss: 0.0524,         Val_loss: 0.0726,         Train_accuracy: 97.81%,         Val_accuracy: 97.65%\n"
     ]
    },
    {
     "name": "stderr",
     "output_type": "stream",
     "text": [
      "100%|██████████| 320/320 [03:55<00:00,  1.36it/s]\n"
     ]
    },
    {
     "name": "stdout",
     "output_type": "stream",
     "text": [
      "Epoch 16 results:\n",
      "         Training_loss: 0.0624,         Val_loss: 0.0739,         Train_accuracy: 97.82%,         Val_accuracy: 97.61%\n"
     ]
    },
    {
     "name": "stderr",
     "output_type": "stream",
     "text": [
      "100%|██████████| 320/320 [03:55<00:00,  1.36it/s]\n"
     ]
    },
    {
     "name": "stdout",
     "output_type": "stream",
     "text": [
      "Epoch 17 results:\n",
      "         Training_loss: 0.0404,         Val_loss: 0.0740,         Train_accuracy: 97.82%,         Val_accuracy: 97.61%\n"
     ]
    },
    {
     "name": "stderr",
     "output_type": "stream",
     "text": [
      "100%|██████████| 320/320 [03:55<00:00,  1.36it/s]\n"
     ]
    },
    {
     "name": "stdout",
     "output_type": "stream",
     "text": [
      "Epoch 18 results:\n",
      "         Training_loss: 0.0552,         Val_loss: 0.0740,         Train_accuracy: 97.80%,         Val_accuracy: 97.62%\n"
     ]
    },
    {
     "name": "stderr",
     "output_type": "stream",
     "text": [
      "100%|██████████| 320/320 [03:58<00:00,  1.34it/s]\n"
     ]
    },
    {
     "name": "stdout",
     "output_type": "stream",
     "text": [
      "Epoch 19 results:\n",
      "         Training_loss: 0.0486,         Val_loss: 0.0746,         Train_accuracy: 97.83%,         Val_accuracy: 97.61%\n"
     ]
    },
    {
     "name": "stderr",
     "output_type": "stream",
     "text": [
      "100%|██████████| 320/320 [04:02<00:00,  1.32it/s]\n"
     ]
    },
    {
     "name": "stdout",
     "output_type": "stream",
     "text": [
      "Epoch 20 results:\n",
      "         Training_loss: 0.0494,         Val_loss: 0.0766,         Train_accuracy: 97.82%,         Val_accuracy: 97.59%\n"
     ]
    },
    {
     "name": "stderr",
     "output_type": "stream",
     "text": [
      "100%|██████████| 320/320 [04:02<00:00,  1.32it/s]\n"
     ]
    },
    {
     "name": "stdout",
     "output_type": "stream",
     "text": [
      "Epoch 21 results:\n",
      "         Training_loss: 0.0431,         Val_loss: 0.0754,         Train_accuracy: 97.81%,         Val_accuracy: 97.60%\n"
     ]
    },
    {
     "name": "stderr",
     "output_type": "stream",
     "text": [
      "100%|██████████| 320/320 [03:56<00:00,  1.35it/s]\n"
     ]
    },
    {
     "name": "stdout",
     "output_type": "stream",
     "text": [
      "Epoch 22 results:\n",
      "         Training_loss: 0.0557,         Val_loss: 0.0766,         Train_accuracy: 97.83%,         Val_accuracy: 97.60%\n"
     ]
    },
    {
     "name": "stderr",
     "output_type": "stream",
     "text": [
      "100%|██████████| 320/320 [04:48<00:00,  1.11it/s]\n"
     ]
    },
    {
     "name": "stdout",
     "output_type": "stream",
     "text": [
      "Epoch 23 results:\n",
      "         Training_loss: 0.0480,         Val_loss: 0.0767,         Train_accuracy: 97.79%,         Val_accuracy: 97.59%\n"
     ]
    },
    {
     "name": "stderr",
     "output_type": "stream",
     "text": [
      "100%|██████████| 320/320 [03:54<00:00,  1.36it/s]\n"
     ]
    },
    {
     "name": "stdout",
     "output_type": "stream",
     "text": [
      "Epoch 24 results:\n",
      "         Training_loss: 0.0440,         Val_loss: 0.0758,         Train_accuracy: 97.84%,         Val_accuracy: 97.61%\n"
     ]
    },
    {
     "name": "stderr",
     "output_type": "stream",
     "text": [
      "100%|██████████| 320/320 [03:54<00:00,  1.36it/s]\n"
     ]
    },
    {
     "name": "stdout",
     "output_type": "stream",
     "text": [
      "Epoch 25 results:\n",
      "         Training_loss: 0.0444,         Val_loss: 0.0755,         Train_accuracy: 97.84%,         Val_accuracy: 97.61%\n"
     ]
    },
    {
     "name": "stderr",
     "output_type": "stream",
     "text": [
      "100%|██████████| 320/320 [03:54<00:00,  1.37it/s]\n"
     ]
    },
    {
     "name": "stdout",
     "output_type": "stream",
     "text": [
      "Epoch 26 results:\n",
      "         Training_loss: 0.0419,         Val_loss: 0.0782,         Train_accuracy: 97.83%,         Val_accuracy: 97.58%\n"
     ]
    },
    {
     "name": "stderr",
     "output_type": "stream",
     "text": [
      "100%|██████████| 320/320 [03:54<00:00,  1.36it/s]\n"
     ]
    },
    {
     "name": "stdout",
     "output_type": "stream",
     "text": [
      "Epoch 27 results:\n",
      "         Training_loss: 0.0430,         Val_loss: 0.0790,         Train_accuracy: 97.82%,         Val_accuracy: 97.56%\n"
     ]
    },
    {
     "name": "stderr",
     "output_type": "stream",
     "text": [
      "100%|██████████| 320/320 [03:54<00:00,  1.36it/s]\n"
     ]
    },
    {
     "name": "stdout",
     "output_type": "stream",
     "text": [
      "Epoch 28 results:\n",
      "         Training_loss: 0.0556,         Val_loss: 0.0770,         Train_accuracy: 97.83%,         Val_accuracy: 97.60%\n"
     ]
    },
    {
     "name": "stderr",
     "output_type": "stream",
     "text": [
      "100%|██████████| 320/320 [03:54<00:00,  1.36it/s]\n"
     ]
    },
    {
     "name": "stdout",
     "output_type": "stream",
     "text": [
      "Epoch 29 results:\n",
      "         Training_loss: 0.0466,         Val_loss: 0.0765,         Train_accuracy: 97.82%,         Val_accuracy: 97.60%\n",
      "Finished Training\n",
      "Training chunk 2 of 6\n",
      "Model and optimizer loaded\n",
      "Loading encoded tensors and labels...\n"
     ]
    },
    {
     "name": "stderr",
     "output_type": "stream",
     "text": [
      "100%|██████████| 100/100 [00:02<00:00, 40.54it/s]\n",
      "100%|██████████| 100/100 [00:06<00:00, 16.52it/s]\n"
     ]
    },
    {
     "name": "stdout",
     "output_type": "stream",
     "text": [
      "Starting Training\n"
     ]
    },
    {
     "name": "stderr",
     "output_type": "stream",
     "text": [
      "100%|██████████| 320/320 [04:00<00:00,  1.33it/s]\n"
     ]
    },
    {
     "name": "stdout",
     "output_type": "stream",
     "text": [
      "Epoch 0 results:\n",
      "         Training_loss: 0.0622,         Val_loss: 0.0729,         Train_accuracy: 97.41%,         Val_accuracy: 97.48%\n"
     ]
    },
    {
     "name": "stderr",
     "output_type": "stream",
     "text": [
      "100%|██████████| 320/320 [03:54<00:00,  1.36it/s]\n"
     ]
    },
    {
     "name": "stdout",
     "output_type": "stream",
     "text": [
      "Epoch 1 results:\n",
      "         Training_loss: 0.0553,         Val_loss: 0.0712,         Train_accuracy: 97.59%,         Val_accuracy: 97.56%\n"
     ]
    },
    {
     "name": "stderr",
     "output_type": "stream",
     "text": [
      "100%|██████████| 320/320 [03:54<00:00,  1.36it/s]\n"
     ]
    },
    {
     "name": "stdout",
     "output_type": "stream",
     "text": [
      "Epoch 2 results:\n",
      "         Training_loss: 0.0563,         Val_loss: 0.0705,         Train_accuracy: 97.66%,         Val_accuracy: 97.59%\n"
     ]
    },
    {
     "name": "stderr",
     "output_type": "stream",
     "text": [
      "100%|██████████| 320/320 [03:54<00:00,  1.36it/s]\n"
     ]
    },
    {
     "name": "stdout",
     "output_type": "stream",
     "text": [
      "Epoch 3 results:\n",
      "         Training_loss: 0.0528,         Val_loss: 0.0703,         Train_accuracy: 97.69%,         Val_accuracy: 97.60%\n"
     ]
    },
    {
     "name": "stderr",
     "output_type": "stream",
     "text": [
      "100%|██████████| 320/320 [03:55<00:00,  1.36it/s]\n"
     ]
    },
    {
     "name": "stdout",
     "output_type": "stream",
     "text": [
      "Epoch 4 results:\n",
      "         Training_loss: 0.0607,         Val_loss: 0.0707,         Train_accuracy: 97.69%,         Val_accuracy: 97.60%\n"
     ]
    },
    {
     "name": "stderr",
     "output_type": "stream",
     "text": [
      "100%|██████████| 320/320 [03:54<00:00,  1.36it/s]\n"
     ]
    },
    {
     "name": "stdout",
     "output_type": "stream",
     "text": [
      "Epoch 5 results:\n",
      "         Training_loss: 0.0611,         Val_loss: 0.0710,         Train_accuracy: 97.73%,         Val_accuracy: 97.60%\n"
     ]
    },
    {
     "name": "stderr",
     "output_type": "stream",
     "text": [
      "100%|██████████| 320/320 [03:54<00:00,  1.37it/s]\n"
     ]
    },
    {
     "name": "stdout",
     "output_type": "stream",
     "text": [
      "Epoch 6 results:\n",
      "         Training_loss: 0.0529,         Val_loss: 0.0705,         Train_accuracy: 97.75%,         Val_accuracy: 97.64%\n"
     ]
    },
    {
     "name": "stderr",
     "output_type": "stream",
     "text": [
      "100%|██████████| 320/320 [03:54<00:00,  1.36it/s]\n"
     ]
    },
    {
     "name": "stdout",
     "output_type": "stream",
     "text": [
      "Epoch 7 results:\n",
      "         Training_loss: 0.0617,         Val_loss: 0.0704,         Train_accuracy: 97.74%,         Val_accuracy: 97.64%\n"
     ]
    },
    {
     "name": "stderr",
     "output_type": "stream",
     "text": [
      "100%|██████████| 320/320 [03:57<00:00,  1.35it/s]\n"
     ]
    },
    {
     "name": "stdout",
     "output_type": "stream",
     "text": [
      "Epoch 8 results:\n",
      "         Training_loss: 0.0483,         Val_loss: 0.0708,         Train_accuracy: 97.78%,         Val_accuracy: 97.63%\n"
     ]
    },
    {
     "name": "stderr",
     "output_type": "stream",
     "text": [
      "100%|██████████| 320/320 [03:54<00:00,  1.36it/s]\n"
     ]
    },
    {
     "name": "stdout",
     "output_type": "stream",
     "text": [
      "Epoch 9 results:\n",
      "         Training_loss: 0.0608,         Val_loss: 0.0722,         Train_accuracy: 97.76%,         Val_accuracy: 97.60%\n"
     ]
    },
    {
     "name": "stderr",
     "output_type": "stream",
     "text": [
      "100%|██████████| 320/320 [03:54<00:00,  1.36it/s]\n"
     ]
    },
    {
     "name": "stdout",
     "output_type": "stream",
     "text": [
      "Epoch 10 results:\n",
      "         Training_loss: 0.0510,         Val_loss: 0.0738,         Train_accuracy: 97.77%,         Val_accuracy: 97.61%\n"
     ]
    },
    {
     "name": "stderr",
     "output_type": "stream",
     "text": [
      "100%|██████████| 320/320 [03:54<00:00,  1.36it/s]\n"
     ]
    },
    {
     "name": "stdout",
     "output_type": "stream",
     "text": [
      "Epoch 11 results:\n",
      "         Training_loss: 0.0569,         Val_loss: 0.0737,         Train_accuracy: 97.78%,         Val_accuracy: 97.61%\n"
     ]
    },
    {
     "name": "stderr",
     "output_type": "stream",
     "text": [
      "100%|██████████| 320/320 [03:54<00:00,  1.36it/s]\n"
     ]
    },
    {
     "name": "stdout",
     "output_type": "stream",
     "text": [
      "Epoch 12 results:\n",
      "         Training_loss: 0.0526,         Val_loss: 0.0726,         Train_accuracy: 97.80%,         Val_accuracy: 97.63%\n"
     ]
    },
    {
     "name": "stderr",
     "output_type": "stream",
     "text": [
      "100%|██████████| 320/320 [03:54<00:00,  1.36it/s]\n"
     ]
    },
    {
     "name": "stdout",
     "output_type": "stream",
     "text": [
      "Epoch 13 results:\n",
      "         Training_loss: 0.0715,         Val_loss: 0.0729,         Train_accuracy: 97.78%,         Val_accuracy: 97.63%\n"
     ]
    },
    {
     "name": "stderr",
     "output_type": "stream",
     "text": [
      "100%|██████████| 320/320 [03:54<00:00,  1.36it/s]\n"
     ]
    },
    {
     "name": "stdout",
     "output_type": "stream",
     "text": [
      "Epoch 14 results:\n",
      "         Training_loss: 0.0592,         Val_loss: 0.0750,         Train_accuracy: 97.77%,         Val_accuracy: 97.58%\n"
     ]
    },
    {
     "name": "stderr",
     "output_type": "stream",
     "text": [
      "100%|██████████| 320/320 [03:54<00:00,  1.36it/s]\n"
     ]
    },
    {
     "name": "stdout",
     "output_type": "stream",
     "text": [
      "Epoch 15 results:\n",
      "         Training_loss: 0.0429,         Val_loss: 0.0735,         Train_accuracy: 97.83%,         Val_accuracy: 97.61%\n"
     ]
    },
    {
     "name": "stderr",
     "output_type": "stream",
     "text": [
      "100%|██████████| 320/320 [03:54<00:00,  1.36it/s]\n"
     ]
    },
    {
     "name": "stdout",
     "output_type": "stream",
     "text": [
      "Epoch 16 results:\n",
      "         Training_loss: 0.0530,         Val_loss: 0.0743,         Train_accuracy: 97.80%,         Val_accuracy: 97.62%\n"
     ]
    },
    {
     "name": "stderr",
     "output_type": "stream",
     "text": [
      "100%|██████████| 320/320 [03:54<00:00,  1.36it/s]\n"
     ]
    },
    {
     "name": "stdout",
     "output_type": "stream",
     "text": [
      "Epoch 17 results:\n",
      "         Training_loss: 0.0454,         Val_loss: 0.0748,         Train_accuracy: 97.80%,         Val_accuracy: 97.61%\n"
     ]
    },
    {
     "name": "stderr",
     "output_type": "stream",
     "text": [
      "100%|██████████| 320/320 [03:58<00:00,  1.34it/s]\n"
     ]
    },
    {
     "name": "stdout",
     "output_type": "stream",
     "text": [
      "Epoch 18 results:\n",
      "         Training_loss: 0.0501,         Val_loss: 0.0739,         Train_accuracy: 97.81%,         Val_accuracy: 97.60%\n"
     ]
    },
    {
     "name": "stderr",
     "output_type": "stream",
     "text": [
      "100%|██████████| 320/320 [03:54<00:00,  1.36it/s]\n"
     ]
    },
    {
     "name": "stdout",
     "output_type": "stream",
     "text": [
      "Epoch 19 results:\n",
      "         Training_loss: 0.0461,         Val_loss: 0.0741,         Train_accuracy: 97.82%,         Val_accuracy: 97.62%\n"
     ]
    },
    {
     "name": "stderr",
     "output_type": "stream",
     "text": [
      "100%|██████████| 320/320 [03:54<00:00,  1.36it/s]\n"
     ]
    },
    {
     "name": "stdout",
     "output_type": "stream",
     "text": [
      "Epoch 20 results:\n",
      "         Training_loss: 0.0599,         Val_loss: 0.0761,         Train_accuracy: 97.81%,         Val_accuracy: 97.59%\n"
     ]
    },
    {
     "name": "stderr",
     "output_type": "stream",
     "text": [
      "100%|██████████| 320/320 [03:54<00:00,  1.36it/s]\n"
     ]
    },
    {
     "name": "stdout",
     "output_type": "stream",
     "text": [
      "Epoch 21 results:\n",
      "         Training_loss: 0.0516,         Val_loss: 0.0773,         Train_accuracy: 97.82%,         Val_accuracy: 97.60%\n"
     ]
    },
    {
     "name": "stderr",
     "output_type": "stream",
     "text": [
      "100%|██████████| 320/320 [03:55<00:00,  1.36it/s]\n"
     ]
    },
    {
     "name": "stdout",
     "output_type": "stream",
     "text": [
      "Epoch 22 results:\n",
      "         Training_loss: 0.0488,         Val_loss: 0.0765,         Train_accuracy: 97.82%,         Val_accuracy: 97.59%\n"
     ]
    },
    {
     "name": "stderr",
     "output_type": "stream",
     "text": [
      "100%|██████████| 320/320 [03:54<00:00,  1.36it/s]\n"
     ]
    },
    {
     "name": "stdout",
     "output_type": "stream",
     "text": [
      "Epoch 23 results:\n",
      "         Training_loss: 0.0384,         Val_loss: 0.0754,         Train_accuracy: 97.83%,         Val_accuracy: 97.61%\n"
     ]
    },
    {
     "name": "stderr",
     "output_type": "stream",
     "text": [
      "100%|██████████| 320/320 [03:54<00:00,  1.36it/s]\n"
     ]
    },
    {
     "name": "stdout",
     "output_type": "stream",
     "text": [
      "Epoch 24 results:\n",
      "         Training_loss: 0.0509,         Val_loss: 0.0769,         Train_accuracy: 97.80%,         Val_accuracy: 97.59%\n"
     ]
    },
    {
     "name": "stderr",
     "output_type": "stream",
     "text": [
      "100%|██████████| 320/320 [03:54<00:00,  1.36it/s]\n"
     ]
    },
    {
     "name": "stdout",
     "output_type": "stream",
     "text": [
      "Epoch 25 results:\n",
      "         Training_loss: 0.0530,         Val_loss: 0.0766,         Train_accuracy: 97.78%,         Val_accuracy: 97.59%\n"
     ]
    },
    {
     "name": "stderr",
     "output_type": "stream",
     "text": [
      "100%|██████████| 320/320 [03:55<00:00,  1.36it/s]\n"
     ]
    },
    {
     "name": "stdout",
     "output_type": "stream",
     "text": [
      "Epoch 26 results:\n",
      "         Training_loss: 0.0439,         Val_loss: 0.0772,         Train_accuracy: 97.81%,         Val_accuracy: 97.60%\n"
     ]
    },
    {
     "name": "stderr",
     "output_type": "stream",
     "text": [
      "100%|██████████| 320/320 [03:55<00:00,  1.36it/s]\n"
     ]
    },
    {
     "name": "stdout",
     "output_type": "stream",
     "text": [
      "Epoch 27 results:\n",
      "         Training_loss: 0.0434,         Val_loss: 0.0768,         Train_accuracy: 97.83%,         Val_accuracy: 97.59%\n"
     ]
    },
    {
     "name": "stderr",
     "output_type": "stream",
     "text": [
      "100%|██████████| 320/320 [03:54<00:00,  1.36it/s]\n"
     ]
    },
    {
     "name": "stdout",
     "output_type": "stream",
     "text": [
      "Epoch 28 results:\n",
      "         Training_loss: 0.0568,         Val_loss: 0.0786,         Train_accuracy: 97.82%,         Val_accuracy: 97.57%\n"
     ]
    },
    {
     "name": "stderr",
     "output_type": "stream",
     "text": [
      "100%|██████████| 320/320 [03:55<00:00,  1.36it/s]\n"
     ]
    },
    {
     "name": "stdout",
     "output_type": "stream",
     "text": [
      "Epoch 29 results:\n",
      "         Training_loss: 0.0429,         Val_loss: 0.0782,         Train_accuracy: 97.82%,         Val_accuracy: 97.59%\n",
      "Finished Training\n",
      "Training chunk 3 of 6\n",
      "Model and optimizer loaded\n",
      "Loading encoded tensors and labels...\n"
     ]
    },
    {
     "name": "stderr",
     "output_type": "stream",
     "text": [
      "100%|██████████| 100/100 [00:05<00:00, 19.62it/s]\n",
      "100%|██████████| 100/100 [00:06<00:00, 15.36it/s]\n"
     ]
    },
    {
     "name": "stdout",
     "output_type": "stream",
     "text": [
      "Starting Training\n"
     ]
    },
    {
     "name": "stderr",
     "output_type": "stream",
     "text": [
      "100%|██████████| 320/320 [04:02<00:00,  1.32it/s]\n"
     ]
    },
    {
     "name": "stdout",
     "output_type": "stream",
     "text": [
      "Epoch 0 results:\n",
      "         Training_loss: 0.0872,         Val_loss: 0.0690,         Train_accuracy: 97.49%,         Val_accuracy: 97.57%\n"
     ]
    },
    {
     "name": "stderr",
     "output_type": "stream",
     "text": [
      "100%|██████████| 320/320 [03:56<00:00,  1.35it/s]\n"
     ]
    },
    {
     "name": "stdout",
     "output_type": "stream",
     "text": [
      "Epoch 1 results:\n",
      "         Training_loss: 0.0807,         Val_loss: 0.0666,         Train_accuracy: 97.66%,         Val_accuracy: 97.66%\n"
     ]
    },
    {
     "name": "stderr",
     "output_type": "stream",
     "text": [
      "100%|██████████| 320/320 [03:55<00:00,  1.36it/s]\n"
     ]
    },
    {
     "name": "stdout",
     "output_type": "stream",
     "text": [
      "Epoch 2 results:\n",
      "         Training_loss: 0.0626,         Val_loss: 0.0673,         Train_accuracy: 97.70%,         Val_accuracy: 97.67%\n"
     ]
    },
    {
     "name": "stderr",
     "output_type": "stream",
     "text": [
      "100%|██████████| 320/320 [03:55<00:00,  1.36it/s]\n"
     ]
    },
    {
     "name": "stdout",
     "output_type": "stream",
     "text": [
      "Epoch 3 results:\n",
      "         Training_loss: 0.0716,         Val_loss: 0.0661,         Train_accuracy: 97.74%,         Val_accuracy: 97.69%\n"
     ]
    },
    {
     "name": "stderr",
     "output_type": "stream",
     "text": [
      "100%|██████████| 320/320 [03:55<00:00,  1.36it/s]\n"
     ]
    },
    {
     "name": "stdout",
     "output_type": "stream",
     "text": [
      "Epoch 4 results:\n",
      "         Training_loss: 0.0557,         Val_loss: 0.0660,         Train_accuracy: 97.77%,         Val_accuracy: 97.70%\n"
     ]
    },
    {
     "name": "stderr",
     "output_type": "stream",
     "text": [
      "100%|██████████| 320/320 [10:46<00:00,  2.02s/it]  \n"
     ]
    },
    {
     "name": "stdout",
     "output_type": "stream",
     "text": [
      "Epoch 5 results:\n",
      "         Training_loss: 0.0701,         Val_loss: 0.0671,         Train_accuracy: 97.78%,         Val_accuracy: 97.69%\n"
     ]
    },
    {
     "name": "stderr",
     "output_type": "stream",
     "text": [
      "100%|██████████| 320/320 [04:01<00:00,  1.33it/s]\n"
     ]
    },
    {
     "name": "stdout",
     "output_type": "stream",
     "text": [
      "Epoch 6 results:\n",
      "         Training_loss: 0.0606,         Val_loss: 0.0665,         Train_accuracy: 97.80%,         Val_accuracy: 97.70%\n"
     ]
    },
    {
     "name": "stderr",
     "output_type": "stream",
     "text": [
      "100%|██████████| 320/320 [04:00<00:00,  1.33it/s]\n"
     ]
    },
    {
     "name": "stdout",
     "output_type": "stream",
     "text": [
      "Epoch 7 results:\n",
      "         Training_loss: 0.0441,         Val_loss: 0.0679,         Train_accuracy: 97.78%,         Val_accuracy: 97.68%\n"
     ]
    },
    {
     "name": "stderr",
     "output_type": "stream",
     "text": [
      "100%|██████████| 320/320 [03:57<00:00,  1.35it/s]\n"
     ]
    },
    {
     "name": "stdout",
     "output_type": "stream",
     "text": [
      "Epoch 8 results:\n",
      "         Training_loss: 0.0494,         Val_loss: 0.0677,         Train_accuracy: 97.84%,         Val_accuracy: 97.70%\n"
     ]
    },
    {
     "name": "stderr",
     "output_type": "stream",
     "text": [
      "100%|██████████| 320/320 [03:55<00:00,  1.36it/s]\n"
     ]
    },
    {
     "name": "stdout",
     "output_type": "stream",
     "text": [
      "Epoch 9 results:\n",
      "         Training_loss: 0.0538,         Val_loss: 0.0676,         Train_accuracy: 97.83%,         Val_accuracy: 97.71%\n"
     ]
    },
    {
     "name": "stderr",
     "output_type": "stream",
     "text": [
      "100%|██████████| 320/320 [03:55<00:00,  1.36it/s]\n"
     ]
    },
    {
     "name": "stdout",
     "output_type": "stream",
     "text": [
      "Epoch 10 results:\n",
      "         Training_loss: 0.0494,         Val_loss: 0.0683,         Train_accuracy: 97.81%,         Val_accuracy: 97.70%\n"
     ]
    },
    {
     "name": "stderr",
     "output_type": "stream",
     "text": [
      "100%|██████████| 320/320 [03:55<00:00,  1.36it/s]\n"
     ]
    },
    {
     "name": "stdout",
     "output_type": "stream",
     "text": [
      "Epoch 11 results:\n",
      "         Training_loss: 0.0517,         Val_loss: 0.0679,         Train_accuracy: 97.84%,         Val_accuracy: 97.71%\n"
     ]
    },
    {
     "name": "stderr",
     "output_type": "stream",
     "text": [
      "100%|██████████| 320/320 [03:54<00:00,  1.36it/s]\n"
     ]
    },
    {
     "name": "stdout",
     "output_type": "stream",
     "text": [
      "Epoch 12 results:\n",
      "         Training_loss: 0.0479,         Val_loss: 0.0687,         Train_accuracy: 97.85%,         Val_accuracy: 97.68%\n"
     ]
    },
    {
     "name": "stderr",
     "output_type": "stream",
     "text": [
      "100%|██████████| 320/320 [03:55<00:00,  1.36it/s]\n"
     ]
    },
    {
     "name": "stdout",
     "output_type": "stream",
     "text": [
      "Epoch 13 results:\n",
      "         Training_loss: 0.0523,         Val_loss: 0.0719,         Train_accuracy: 97.85%,         Val_accuracy: 97.63%\n"
     ]
    },
    {
     "name": "stderr",
     "output_type": "stream",
     "text": [
      "100%|██████████| 320/320 [03:55<00:00,  1.36it/s]\n"
     ]
    },
    {
     "name": "stdout",
     "output_type": "stream",
     "text": [
      "Epoch 14 results:\n",
      "         Training_loss: 0.0601,         Val_loss: 0.0700,         Train_accuracy: 97.84%,         Val_accuracy: 97.68%\n"
     ]
    },
    {
     "name": "stderr",
     "output_type": "stream",
     "text": [
      "100%|██████████| 320/320 [03:55<00:00,  1.36it/s]\n"
     ]
    },
    {
     "name": "stdout",
     "output_type": "stream",
     "text": [
      "Epoch 15 results:\n",
      "         Training_loss: 0.0390,         Val_loss: 0.0698,         Train_accuracy: 97.85%,         Val_accuracy: 97.68%\n"
     ]
    },
    {
     "name": "stderr",
     "output_type": "stream",
     "text": [
      "100%|██████████| 320/320 [04:04<00:00,  1.31it/s]\n"
     ]
    },
    {
     "name": "stdout",
     "output_type": "stream",
     "text": [
      "Epoch 16 results:\n",
      "         Training_loss: 0.0426,         Val_loss: 0.0709,         Train_accuracy: 97.85%,         Val_accuracy: 97.67%\n"
     ]
    },
    {
     "name": "stderr",
     "output_type": "stream",
     "text": [
      "100%|██████████| 320/320 [03:55<00:00,  1.36it/s]\n"
     ]
    },
    {
     "name": "stdout",
     "output_type": "stream",
     "text": [
      "Epoch 17 results:\n",
      "         Training_loss: 0.0518,         Val_loss: 0.0708,         Train_accuracy: 97.85%,         Val_accuracy: 97.68%\n"
     ]
    },
    {
     "name": "stderr",
     "output_type": "stream",
     "text": [
      "100%|██████████| 320/320 [03:55<00:00,  1.36it/s]\n"
     ]
    },
    {
     "name": "stdout",
     "output_type": "stream",
     "text": [
      "Epoch 18 results:\n",
      "         Training_loss: 0.0402,         Val_loss: 0.0710,         Train_accuracy: 97.83%,         Val_accuracy: 97.67%\n"
     ]
    },
    {
     "name": "stderr",
     "output_type": "stream",
     "text": [
      "100%|██████████| 320/320 [03:55<00:00,  1.36it/s]\n"
     ]
    },
    {
     "name": "stdout",
     "output_type": "stream",
     "text": [
      "Epoch 19 results:\n",
      "         Training_loss: 0.0529,         Val_loss: 0.0715,         Train_accuracy: 97.86%,         Val_accuracy: 97.68%\n"
     ]
    },
    {
     "name": "stderr",
     "output_type": "stream",
     "text": [
      "100%|██████████| 320/320 [03:54<00:00,  1.36it/s]\n"
     ]
    },
    {
     "name": "stdout",
     "output_type": "stream",
     "text": [
      "Epoch 20 results:\n",
      "         Training_loss: 0.0353,         Val_loss: 0.0721,         Train_accuracy: 97.87%,         Val_accuracy: 97.66%\n"
     ]
    },
    {
     "name": "stderr",
     "output_type": "stream",
     "text": [
      "100%|██████████| 320/320 [03:55<00:00,  1.36it/s]\n"
     ]
    },
    {
     "name": "stdout",
     "output_type": "stream",
     "text": [
      "Epoch 21 results:\n",
      "         Training_loss: 0.0551,         Val_loss: 0.0741,         Train_accuracy: 97.84%,         Val_accuracy: 97.61%\n"
     ]
    },
    {
     "name": "stderr",
     "output_type": "stream",
     "text": [
      "100%|██████████| 320/320 [03:55<00:00,  1.36it/s]\n"
     ]
    },
    {
     "name": "stdout",
     "output_type": "stream",
     "text": [
      "Epoch 22 results:\n",
      "         Training_loss: 0.0518,         Val_loss: 0.0724,         Train_accuracy: 97.87%,         Val_accuracy: 97.66%\n"
     ]
    },
    {
     "name": "stderr",
     "output_type": "stream",
     "text": [
      "100%|██████████| 320/320 [03:54<00:00,  1.36it/s]\n"
     ]
    },
    {
     "name": "stdout",
     "output_type": "stream",
     "text": [
      "Epoch 23 results:\n",
      "         Training_loss: 0.0473,         Val_loss: 0.0730,         Train_accuracy: 97.85%,         Val_accuracy: 97.65%\n"
     ]
    },
    {
     "name": "stderr",
     "output_type": "stream",
     "text": [
      "100%|██████████| 320/320 [03:55<00:00,  1.36it/s]\n"
     ]
    },
    {
     "name": "stdout",
     "output_type": "stream",
     "text": [
      "Epoch 24 results:\n",
      "         Training_loss: 0.0444,         Val_loss: 0.0736,         Train_accuracy: 97.86%,         Val_accuracy: 97.64%\n"
     ]
    },
    {
     "name": "stderr",
     "output_type": "stream",
     "text": [
      "100%|██████████| 320/320 [03:55<00:00,  1.36it/s]\n"
     ]
    },
    {
     "name": "stdout",
     "output_type": "stream",
     "text": [
      "Epoch 25 results:\n",
      "         Training_loss: 0.0478,         Val_loss: 0.0748,         Train_accuracy: 97.84%,         Val_accuracy: 97.64%\n"
     ]
    },
    {
     "name": "stderr",
     "output_type": "stream",
     "text": [
      "100%|██████████| 320/320 [03:55<00:00,  1.36it/s]\n"
     ]
    },
    {
     "name": "stdout",
     "output_type": "stream",
     "text": [
      "Epoch 26 results:\n",
      "         Training_loss: 0.0442,         Val_loss: 0.0738,         Train_accuracy: 97.86%,         Val_accuracy: 97.64%\n"
     ]
    },
    {
     "name": "stderr",
     "output_type": "stream",
     "text": [
      "100%|██████████| 320/320 [03:54<00:00,  1.36it/s]\n"
     ]
    },
    {
     "name": "stdout",
     "output_type": "stream",
     "text": [
      "Epoch 27 results:\n",
      "         Training_loss: 0.0480,         Val_loss: 0.0748,         Train_accuracy: 97.87%,         Val_accuracy: 97.64%\n"
     ]
    },
    {
     "name": "stderr",
     "output_type": "stream",
     "text": [
      "100%|██████████| 320/320 [03:54<00:00,  1.36it/s]\n"
     ]
    },
    {
     "name": "stdout",
     "output_type": "stream",
     "text": [
      "Epoch 28 results:\n",
      "         Training_loss: 0.0497,         Val_loss: 0.0742,         Train_accuracy: 97.85%,         Val_accuracy: 97.64%\n"
     ]
    },
    {
     "name": "stderr",
     "output_type": "stream",
     "text": [
      "100%|██████████| 320/320 [03:55<00:00,  1.36it/s]\n"
     ]
    },
    {
     "name": "stdout",
     "output_type": "stream",
     "text": [
      "Epoch 29 results:\n",
      "         Training_loss: 0.0460,         Val_loss: 0.0756,         Train_accuracy: 97.85%,         Val_accuracy: 97.61%\n",
      "Finished Training\n",
      "Training chunk 4 of 6\n",
      "Model and optimizer loaded\n",
      "Loading encoded tensors and labels...\n"
     ]
    },
    {
     "name": "stderr",
     "output_type": "stream",
     "text": [
      "100%|██████████| 100/100 [00:03<00:00, 28.19it/s]\n",
      "100%|██████████| 100/100 [00:06<00:00, 16.38it/s]\n"
     ]
    },
    {
     "name": "stdout",
     "output_type": "stream",
     "text": [
      "Starting Training\n"
     ]
    },
    {
     "name": "stderr",
     "output_type": "stream",
     "text": [
      "100%|██████████| 320/320 [03:48<00:00,  1.40it/s]\n"
     ]
    },
    {
     "name": "stdout",
     "output_type": "stream",
     "text": [
      "Epoch 0 results:\n",
      "         Training_loss: 0.0545,         Val_loss: 0.0688,         Train_accuracy: 97.53%,         Val_accuracy: 97.66%\n"
     ]
    },
    {
     "name": "stderr",
     "output_type": "stream",
     "text": [
      "100%|██████████| 320/320 [03:48<00:00,  1.40it/s]\n"
     ]
    },
    {
     "name": "stdout",
     "output_type": "stream",
     "text": [
      "Epoch 1 results:\n",
      "         Training_loss: 0.0651,         Val_loss: 0.0676,         Train_accuracy: 97.66%,         Val_accuracy: 97.68%\n"
     ]
    },
    {
     "name": "stderr",
     "output_type": "stream",
     "text": [
      "100%|██████████| 320/320 [03:48<00:00,  1.40it/s]\n"
     ]
    },
    {
     "name": "stdout",
     "output_type": "stream",
     "text": [
      "Epoch 2 results:\n",
      "         Training_loss: 0.0846,         Val_loss: 0.0657,         Train_accuracy: 97.73%,         Val_accuracy: 97.75%\n"
     ]
    },
    {
     "name": "stderr",
     "output_type": "stream",
     "text": [
      "100%|██████████| 320/320 [03:48<00:00,  1.40it/s]\n"
     ]
    },
    {
     "name": "stdout",
     "output_type": "stream",
     "text": [
      "Epoch 3 results:\n",
      "         Training_loss: 0.0548,         Val_loss: 0.0649,         Train_accuracy: 97.78%,         Val_accuracy: 97.77%\n"
     ]
    },
    {
     "name": "stderr",
     "output_type": "stream",
     "text": [
      "100%|██████████| 320/320 [03:48<00:00,  1.40it/s]\n"
     ]
    },
    {
     "name": "stdout",
     "output_type": "stream",
     "text": [
      "Epoch 4 results:\n",
      "         Training_loss: 0.0575,         Val_loss: 0.0655,         Train_accuracy: 97.81%,         Val_accuracy: 97.77%\n"
     ]
    },
    {
     "name": "stderr",
     "output_type": "stream",
     "text": [
      "100%|██████████| 320/320 [03:59<00:00,  1.34it/s]\n"
     ]
    },
    {
     "name": "stdout",
     "output_type": "stream",
     "text": [
      "Epoch 5 results:\n",
      "         Training_loss: 0.0600,         Val_loss: 0.0662,         Train_accuracy: 97.83%,         Val_accuracy: 97.77%\n"
     ]
    },
    {
     "name": "stderr",
     "output_type": "stream",
     "text": [
      "100%|██████████| 320/320 [03:48<00:00,  1.40it/s]\n"
     ]
    },
    {
     "name": "stdout",
     "output_type": "stream",
     "text": [
      "Epoch 6 results:\n",
      "         Training_loss: 0.0590,         Val_loss: 0.0660,         Train_accuracy: 97.87%,         Val_accuracy: 97.78%\n"
     ]
    },
    {
     "name": "stderr",
     "output_type": "stream",
     "text": [
      "100%|██████████| 320/320 [03:48<00:00,  1.40it/s]\n"
     ]
    },
    {
     "name": "stdout",
     "output_type": "stream",
     "text": [
      "Epoch 7 results:\n",
      "         Training_loss: 0.0623,         Val_loss: 0.0672,         Train_accuracy: 97.85%,         Val_accuracy: 97.76%\n"
     ]
    },
    {
     "name": "stderr",
     "output_type": "stream",
     "text": [
      "100%|██████████| 320/320 [03:48<00:00,  1.40it/s]\n"
     ]
    },
    {
     "name": "stdout",
     "output_type": "stream",
     "text": [
      "Epoch 8 results:\n",
      "         Training_loss: 0.0579,         Val_loss: 0.0668,         Train_accuracy: 97.89%,         Val_accuracy: 97.77%\n"
     ]
    },
    {
     "name": "stderr",
     "output_type": "stream",
     "text": [
      "100%|██████████| 320/320 [03:48<00:00,  1.40it/s]\n"
     ]
    },
    {
     "name": "stdout",
     "output_type": "stream",
     "text": [
      "Epoch 9 results:\n",
      "         Training_loss: 0.0516,         Val_loss: 0.0671,         Train_accuracy: 97.88%,         Val_accuracy: 97.77%\n"
     ]
    },
    {
     "name": "stderr",
     "output_type": "stream",
     "text": [
      "100%|██████████| 320/320 [03:48<00:00,  1.40it/s]\n"
     ]
    },
    {
     "name": "stdout",
     "output_type": "stream",
     "text": [
      "Epoch 10 results:\n",
      "         Training_loss: 0.0583,         Val_loss: 0.0681,         Train_accuracy: 97.89%,         Val_accuracy: 97.76%\n"
     ]
    },
    {
     "name": "stderr",
     "output_type": "stream",
     "text": [
      "100%|██████████| 320/320 [03:48<00:00,  1.40it/s]\n"
     ]
    },
    {
     "name": "stdout",
     "output_type": "stream",
     "text": [
      "Epoch 11 results:\n",
      "         Training_loss: 0.0506,         Val_loss: 0.0677,         Train_accuracy: 97.88%,         Val_accuracy: 97.77%\n"
     ]
    },
    {
     "name": "stderr",
     "output_type": "stream",
     "text": [
      "100%|██████████| 320/320 [03:49<00:00,  1.40it/s]\n"
     ]
    },
    {
     "name": "stdout",
     "output_type": "stream",
     "text": [
      "Epoch 12 results:\n",
      "         Training_loss: 0.0516,         Val_loss: 0.0680,         Train_accuracy: 97.90%,         Val_accuracy: 97.76%\n"
     ]
    },
    {
     "name": "stderr",
     "output_type": "stream",
     "text": [
      "100%|██████████| 320/320 [03:48<00:00,  1.40it/s]\n"
     ]
    },
    {
     "name": "stdout",
     "output_type": "stream",
     "text": [
      "Epoch 13 results:\n",
      "         Training_loss: 0.0510,         Val_loss: 0.0687,         Train_accuracy: 97.90%,         Val_accuracy: 97.77%\n"
     ]
    },
    {
     "name": "stderr",
     "output_type": "stream",
     "text": [
      "100%|██████████| 320/320 [03:48<00:00,  1.40it/s]\n"
     ]
    },
    {
     "name": "stdout",
     "output_type": "stream",
     "text": [
      "Epoch 14 results:\n",
      "         Training_loss: 0.0521,         Val_loss: 0.0685,         Train_accuracy: 97.89%,         Val_accuracy: 97.75%\n"
     ]
    },
    {
     "name": "stderr",
     "output_type": "stream",
     "text": [
      "100%|██████████| 320/320 [03:49<00:00,  1.40it/s]\n"
     ]
    },
    {
     "name": "stdout",
     "output_type": "stream",
     "text": [
      "Epoch 15 results:\n",
      "         Training_loss: 0.0516,         Val_loss: 0.0693,         Train_accuracy: 97.88%,         Val_accuracy: 97.75%\n"
     ]
    },
    {
     "name": "stderr",
     "output_type": "stream",
     "text": [
      "100%|██████████| 320/320 [03:49<00:00,  1.40it/s]\n"
     ]
    },
    {
     "name": "stdout",
     "output_type": "stream",
     "text": [
      "Epoch 16 results:\n",
      "         Training_loss: 0.0484,         Val_loss: 0.0687,         Train_accuracy: 97.89%,         Val_accuracy: 97.75%\n"
     ]
    },
    {
     "name": "stderr",
     "output_type": "stream",
     "text": [
      "100%|██████████| 320/320 [03:48<00:00,  1.40it/s]\n"
     ]
    },
    {
     "name": "stdout",
     "output_type": "stream",
     "text": [
      "Epoch 17 results:\n",
      "         Training_loss: 0.0501,         Val_loss: 0.0698,         Train_accuracy: 97.90%,         Val_accuracy: 97.76%\n"
     ]
    },
    {
     "name": "stderr",
     "output_type": "stream",
     "text": [
      "100%|██████████| 320/320 [03:49<00:00,  1.40it/s]\n"
     ]
    },
    {
     "name": "stdout",
     "output_type": "stream",
     "text": [
      "Epoch 18 results:\n",
      "         Training_loss: 0.0482,         Val_loss: 0.0693,         Train_accuracy: 97.93%,         Val_accuracy: 97.75%\n"
     ]
    },
    {
     "name": "stderr",
     "output_type": "stream",
     "text": [
      "100%|██████████| 320/320 [03:49<00:00,  1.39it/s]\n"
     ]
    },
    {
     "name": "stdout",
     "output_type": "stream",
     "text": [
      "Epoch 19 results:\n",
      "         Training_loss: 0.0423,         Val_loss: 0.0698,         Train_accuracy: 97.92%,         Val_accuracy: 97.73%\n"
     ]
    },
    {
     "name": "stderr",
     "output_type": "stream",
     "text": [
      "100%|██████████| 320/320 [03:49<00:00,  1.40it/s]\n"
     ]
    },
    {
     "name": "stdout",
     "output_type": "stream",
     "text": [
      "Epoch 20 results:\n",
      "         Training_loss: 0.0530,         Val_loss: 0.0706,         Train_accuracy: 97.91%,         Val_accuracy: 97.74%\n"
     ]
    },
    {
     "name": "stderr",
     "output_type": "stream",
     "text": [
      "100%|██████████| 320/320 [3:49:05<00:00, 42.95s/it]      \n"
     ]
    },
    {
     "name": "stdout",
     "output_type": "stream",
     "text": [
      "Epoch 21 results:\n",
      "         Training_loss: 0.0408,         Val_loss: 0.0712,         Train_accuracy: 97.91%,         Val_accuracy: 97.73%\n"
     ]
    },
    {
     "name": "stderr",
     "output_type": "stream",
     "text": [
      "100%|██████████| 320/320 [03:51<00:00,  1.38it/s]\n"
     ]
    },
    {
     "name": "stdout",
     "output_type": "stream",
     "text": [
      "Epoch 22 results:\n",
      "         Training_loss: 0.0447,         Val_loss: 0.0717,         Train_accuracy: 97.89%,         Val_accuracy: 97.73%\n"
     ]
    },
    {
     "name": "stderr",
     "output_type": "stream",
     "text": [
      "100%|██████████| 320/320 [03:51<00:00,  1.38it/s]\n"
     ]
    },
    {
     "name": "stdout",
     "output_type": "stream",
     "text": [
      "Epoch 23 results:\n",
      "         Training_loss: 0.0513,         Val_loss: 0.0728,         Train_accuracy: 97.92%,         Val_accuracy: 97.72%\n"
     ]
    },
    {
     "name": "stderr",
     "output_type": "stream",
     "text": [
      "100%|██████████| 320/320 [03:52<00:00,  1.38it/s]\n"
     ]
    },
    {
     "name": "stdout",
     "output_type": "stream",
     "text": [
      "Epoch 24 results:\n",
      "         Training_loss: 0.0511,         Val_loss: 0.0735,         Train_accuracy: 97.89%,         Val_accuracy: 97.71%\n"
     ]
    },
    {
     "name": "stderr",
     "output_type": "stream",
     "text": [
      "100%|██████████| 320/320 [03:51<00:00,  1.38it/s]\n"
     ]
    },
    {
     "name": "stdout",
     "output_type": "stream",
     "text": [
      "Epoch 25 results:\n",
      "         Training_loss: 0.0507,         Val_loss: 0.0713,         Train_accuracy: 97.91%,         Val_accuracy: 97.73%\n"
     ]
    },
    {
     "name": "stderr",
     "output_type": "stream",
     "text": [
      "100%|██████████| 320/320 [03:52<00:00,  1.38it/s]\n"
     ]
    },
    {
     "name": "stdout",
     "output_type": "stream",
     "text": [
      "Epoch 26 results:\n",
      "         Training_loss: 0.0464,         Val_loss: 0.0740,         Train_accuracy: 97.91%,         Val_accuracy: 97.71%\n"
     ]
    },
    {
     "name": "stderr",
     "output_type": "stream",
     "text": [
      "100%|██████████| 320/320 [03:49<00:00,  1.39it/s]\n"
     ]
    },
    {
     "name": "stdout",
     "output_type": "stream",
     "text": [
      "Epoch 27 results:\n",
      "         Training_loss: 0.0427,         Val_loss: 0.0729,         Train_accuracy: 97.92%,         Val_accuracy: 97.73%\n"
     ]
    },
    {
     "name": "stderr",
     "output_type": "stream",
     "text": [
      "100%|██████████| 320/320 [03:47<00:00,  1.41it/s]\n"
     ]
    },
    {
     "name": "stdout",
     "output_type": "stream",
     "text": [
      "Epoch 28 results:\n",
      "         Training_loss: 0.0592,         Val_loss: 0.0749,         Train_accuracy: 97.91%,         Val_accuracy: 97.70%\n"
     ]
    },
    {
     "name": "stderr",
     "output_type": "stream",
     "text": [
      "100%|██████████| 320/320 [04:03<00:00,  1.31it/s]\n"
     ]
    },
    {
     "name": "stdout",
     "output_type": "stream",
     "text": [
      "Epoch 29 results:\n",
      "         Training_loss: 0.0316,         Val_loss: 0.0738,         Train_accuracy: 97.92%,         Val_accuracy: 97.71%\n",
      "Finished Training\n",
      "Training chunk 5 of 6\n",
      "Model and optimizer loaded\n",
      "Loading encoded tensors and labels...\n"
     ]
    },
    {
     "name": "stderr",
     "output_type": "stream",
     "text": [
      "100%|██████████| 100/100 [00:03<00:00, 25.20it/s]\n",
      "100%|██████████| 100/100 [00:06<00:00, 16.13it/s]\n"
     ]
    },
    {
     "name": "stdout",
     "output_type": "stream",
     "text": [
      "Starting Training\n"
     ]
    },
    {
     "name": "stderr",
     "output_type": "stream",
     "text": [
      "100%|██████████| 320/320 [03:42<00:00,  1.44it/s]\n"
     ]
    },
    {
     "name": "stdout",
     "output_type": "stream",
     "text": [
      "Epoch 0 results:\n",
      "         Training_loss: 0.0749,         Val_loss: 0.0688,         Train_accuracy: 97.53%,         Val_accuracy: 97.55%\n"
     ]
    },
    {
     "name": "stderr",
     "output_type": "stream",
     "text": [
      "100%|██████████| 320/320 [03:42<00:00,  1.44it/s]\n"
     ]
    },
    {
     "name": "stdout",
     "output_type": "stream",
     "text": [
      "Epoch 1 results:\n",
      "         Training_loss: 0.0558,         Val_loss: 0.0668,         Train_accuracy: 97.68%,         Val_accuracy: 97.62%\n"
     ]
    },
    {
     "name": "stderr",
     "output_type": "stream",
     "text": [
      "100%|██████████| 320/320 [03:42<00:00,  1.44it/s]\n"
     ]
    },
    {
     "name": "stdout",
     "output_type": "stream",
     "text": [
      "Epoch 2 results:\n",
      "         Training_loss: 0.0576,         Val_loss: 0.0654,         Train_accuracy: 97.70%,         Val_accuracy: 97.67%\n"
     ]
    },
    {
     "name": "stderr",
     "output_type": "stream",
     "text": [
      "100%|██████████| 320/320 [03:49<00:00,  1.39it/s]\n"
     ]
    },
    {
     "name": "stdout",
     "output_type": "stream",
     "text": [
      "Epoch 3 results:\n",
      "         Training_loss: 0.0572,         Val_loss: 0.0667,         Train_accuracy: 97.72%,         Val_accuracy: 97.66%\n"
     ]
    },
    {
     "name": "stderr",
     "output_type": "stream",
     "text": [
      "100%|██████████| 320/320 [03:51<00:00,  1.38it/s]\n"
     ]
    },
    {
     "name": "stdout",
     "output_type": "stream",
     "text": [
      "Epoch 4 results:\n",
      "         Training_loss: 0.0621,         Val_loss: 0.0651,         Train_accuracy: 97.76%,         Val_accuracy: 97.70%\n"
     ]
    },
    {
     "name": "stderr",
     "output_type": "stream",
     "text": [
      "100%|██████████| 320/320 [03:51<00:00,  1.39it/s]\n"
     ]
    },
    {
     "name": "stdout",
     "output_type": "stream",
     "text": [
      "Epoch 5 results:\n",
      "         Training_loss: 0.0518,         Val_loss: 0.0654,         Train_accuracy: 97.79%,         Val_accuracy: 97.71%\n"
     ]
    },
    {
     "name": "stderr",
     "output_type": "stream",
     "text": [
      "100%|██████████| 320/320 [03:51<00:00,  1.38it/s]\n"
     ]
    },
    {
     "name": "stdout",
     "output_type": "stream",
     "text": [
      "Epoch 6 results:\n",
      "         Training_loss: 0.0446,         Val_loss: 0.0659,         Train_accuracy: 97.78%,         Val_accuracy: 97.69%\n"
     ]
    },
    {
     "name": "stderr",
     "output_type": "stream",
     "text": [
      "100%|██████████| 320/320 [03:52<00:00,  1.38it/s]\n"
     ]
    },
    {
     "name": "stdout",
     "output_type": "stream",
     "text": [
      "Epoch 7 results:\n",
      "         Training_loss: 0.0431,         Val_loss: 0.0660,         Train_accuracy: 97.80%,         Val_accuracy: 97.69%\n"
     ]
    },
    {
     "name": "stderr",
     "output_type": "stream",
     "text": [
      "100%|██████████| 320/320 [03:51<00:00,  1.38it/s]\n"
     ]
    },
    {
     "name": "stdout",
     "output_type": "stream",
     "text": [
      "Epoch 8 results:\n",
      "         Training_loss: 0.0533,         Val_loss: 0.0661,         Train_accuracy: 97.83%,         Val_accuracy: 97.70%\n"
     ]
    },
    {
     "name": "stderr",
     "output_type": "stream",
     "text": [
      "100%|██████████| 320/320 [03:52<00:00,  1.38it/s]\n"
     ]
    },
    {
     "name": "stdout",
     "output_type": "stream",
     "text": [
      "Epoch 9 results:\n",
      "         Training_loss: 0.0460,         Val_loss: 0.0661,         Train_accuracy: 97.81%,         Val_accuracy: 97.70%\n"
     ]
    },
    {
     "name": "stderr",
     "output_type": "stream",
     "text": [
      "100%|██████████| 320/320 [03:52<00:00,  1.37it/s]\n"
     ]
    },
    {
     "name": "stdout",
     "output_type": "stream",
     "text": [
      "Epoch 10 results:\n",
      "         Training_loss: 0.0483,         Val_loss: 0.0676,         Train_accuracy: 97.84%,         Val_accuracy: 97.68%\n"
     ]
    },
    {
     "name": "stderr",
     "output_type": "stream",
     "text": [
      "100%|██████████| 320/320 [03:53<00:00,  1.37it/s]\n"
     ]
    },
    {
     "name": "stdout",
     "output_type": "stream",
     "text": [
      "Epoch 11 results:\n",
      "         Training_loss: 0.0506,         Val_loss: 0.0675,         Train_accuracy: 97.84%,         Val_accuracy: 97.68%\n"
     ]
    },
    {
     "name": "stderr",
     "output_type": "stream",
     "text": [
      "100%|██████████| 320/320 [03:52<00:00,  1.38it/s]\n"
     ]
    },
    {
     "name": "stdout",
     "output_type": "stream",
     "text": [
      "Epoch 12 results:\n",
      "         Training_loss: 0.0509,         Val_loss: 0.0671,         Train_accuracy: 97.83%,         Val_accuracy: 97.70%\n"
     ]
    },
    {
     "name": "stderr",
     "output_type": "stream",
     "text": [
      "100%|██████████| 320/320 [03:52<00:00,  1.37it/s]\n"
     ]
    },
    {
     "name": "stdout",
     "output_type": "stream",
     "text": [
      "Epoch 13 results:\n",
      "         Training_loss: 0.0538,         Val_loss: 0.0685,         Train_accuracy: 97.85%,         Val_accuracy: 97.67%\n"
     ]
    },
    {
     "name": "stderr",
     "output_type": "stream",
     "text": [
      "100%|██████████| 320/320 [03:51<00:00,  1.38it/s]\n"
     ]
    },
    {
     "name": "stdout",
     "output_type": "stream",
     "text": [
      "Epoch 14 results:\n",
      "         Training_loss: 0.0473,         Val_loss: 0.0699,         Train_accuracy: 97.85%,         Val_accuracy: 97.66%\n"
     ]
    },
    {
     "name": "stderr",
     "output_type": "stream",
     "text": [
      "100%|██████████| 320/320 [03:51<00:00,  1.38it/s]\n"
     ]
    },
    {
     "name": "stdout",
     "output_type": "stream",
     "text": [
      "Epoch 15 results:\n",
      "         Training_loss: 0.0527,         Val_loss: 0.0691,         Train_accuracy: 97.86%,         Val_accuracy: 97.67%\n"
     ]
    },
    {
     "name": "stderr",
     "output_type": "stream",
     "text": [
      "100%|██████████| 320/320 [03:51<00:00,  1.38it/s]\n"
     ]
    },
    {
     "name": "stdout",
     "output_type": "stream",
     "text": [
      "Epoch 16 results:\n",
      "         Training_loss: 0.0559,         Val_loss: 0.0699,         Train_accuracy: 97.85%,         Val_accuracy: 97.67%\n"
     ]
    },
    {
     "name": "stderr",
     "output_type": "stream",
     "text": [
      "100%|██████████| 320/320 [03:51<00:00,  1.38it/s]\n"
     ]
    },
    {
     "name": "stdout",
     "output_type": "stream",
     "text": [
      "Epoch 17 results:\n",
      "         Training_loss: 0.0572,         Val_loss: 0.0693,         Train_accuracy: 97.85%,         Val_accuracy: 97.67%\n"
     ]
    },
    {
     "name": "stderr",
     "output_type": "stream",
     "text": [
      "100%|██████████| 320/320 [03:51<00:00,  1.38it/s]\n"
     ]
    },
    {
     "name": "stdout",
     "output_type": "stream",
     "text": [
      "Epoch 18 results:\n",
      "         Training_loss: 0.0432,         Val_loss: 0.0699,         Train_accuracy: 97.87%,         Val_accuracy: 97.65%\n"
     ]
    },
    {
     "name": "stderr",
     "output_type": "stream",
     "text": [
      "100%|██████████| 320/320 [03:52<00:00,  1.38it/s]\n"
     ]
    },
    {
     "name": "stdout",
     "output_type": "stream",
     "text": [
      "Epoch 19 results:\n",
      "         Training_loss: 0.0448,         Val_loss: 0.0696,         Train_accuracy: 97.85%,         Val_accuracy: 97.67%\n"
     ]
    },
    {
     "name": "stderr",
     "output_type": "stream",
     "text": [
      "100%|██████████| 320/320 [03:52<00:00,  1.38it/s]\n"
     ]
    },
    {
     "name": "stdout",
     "output_type": "stream",
     "text": [
      "Epoch 20 results:\n",
      "         Training_loss: 0.0451,         Val_loss: 0.0722,         Train_accuracy: 97.87%,         Val_accuracy: 97.64%\n"
     ]
    },
    {
     "name": "stderr",
     "output_type": "stream",
     "text": [
      "100%|██████████| 320/320 [03:57<00:00,  1.35it/s]\n"
     ]
    },
    {
     "name": "stdout",
     "output_type": "stream",
     "text": [
      "Epoch 21 results:\n",
      "         Training_loss: 0.0577,         Val_loss: 0.0694,         Train_accuracy: 97.86%,         Val_accuracy: 97.66%\n"
     ]
    },
    {
     "name": "stderr",
     "output_type": "stream",
     "text": [
      "100%|██████████| 320/320 [03:51<00:00,  1.38it/s]\n"
     ]
    },
    {
     "name": "stdout",
     "output_type": "stream",
     "text": [
      "Epoch 22 results:\n",
      "         Training_loss: 0.0492,         Val_loss: 0.0710,         Train_accuracy: 97.89%,         Val_accuracy: 97.66%\n"
     ]
    },
    {
     "name": "stderr",
     "output_type": "stream",
     "text": [
      "100%|██████████| 320/320 [03:52<00:00,  1.38it/s]\n"
     ]
    },
    {
     "name": "stdout",
     "output_type": "stream",
     "text": [
      "Epoch 23 results:\n",
      "         Training_loss: 0.0455,         Val_loss: 0.0712,         Train_accuracy: 97.84%,         Val_accuracy: 97.63%\n"
     ]
    },
    {
     "name": "stderr",
     "output_type": "stream",
     "text": [
      "100%|██████████| 320/320 [03:51<00:00,  1.38it/s]\n"
     ]
    },
    {
     "name": "stdout",
     "output_type": "stream",
     "text": [
      "Epoch 24 results:\n",
      "         Training_loss: 0.0491,         Val_loss: 0.0715,         Train_accuracy: 97.85%,         Val_accuracy: 97.63%\n"
     ]
    },
    {
     "name": "stderr",
     "output_type": "stream",
     "text": [
      "100%|██████████| 320/320 [03:51<00:00,  1.38it/s]\n"
     ]
    },
    {
     "name": "stdout",
     "output_type": "stream",
     "text": [
      "Epoch 25 results:\n",
      "         Training_loss: 0.0430,         Val_loss: 0.0723,         Train_accuracy: 97.85%,         Val_accuracy: 97.63%\n"
     ]
    },
    {
     "name": "stderr",
     "output_type": "stream",
     "text": [
      "100%|██████████| 320/320 [03:52<00:00,  1.38it/s]\n"
     ]
    },
    {
     "name": "stdout",
     "output_type": "stream",
     "text": [
      "Epoch 26 results:\n",
      "         Training_loss: 0.0614,         Val_loss: 0.0749,         Train_accuracy: 97.85%,         Val_accuracy: 97.59%\n"
     ]
    },
    {
     "name": "stderr",
     "output_type": "stream",
     "text": [
      "100%|██████████| 320/320 [03:52<00:00,  1.38it/s]\n"
     ]
    },
    {
     "name": "stdout",
     "output_type": "stream",
     "text": [
      "Epoch 27 results:\n",
      "         Training_loss: 0.0376,         Val_loss: 0.0724,         Train_accuracy: 97.86%,         Val_accuracy: 97.62%\n"
     ]
    },
    {
     "name": "stderr",
     "output_type": "stream",
     "text": [
      "100%|██████████| 320/320 [03:52<00:00,  1.38it/s]\n"
     ]
    },
    {
     "name": "stdout",
     "output_type": "stream",
     "text": [
      "Epoch 28 results:\n",
      "         Training_loss: 0.0546,         Val_loss: 0.0740,         Train_accuracy: 97.86%,         Val_accuracy: 97.62%\n"
     ]
    },
    {
     "name": "stderr",
     "output_type": "stream",
     "text": [
      "100%|██████████| 320/320 [04:16<00:00,  1.25it/s]\n"
     ]
    },
    {
     "name": "stdout",
     "output_type": "stream",
     "text": [
      "Epoch 29 results:\n",
      "         Training_loss: 0.0366,         Val_loss: 0.0734,         Train_accuracy: 97.85%,         Val_accuracy: 97.62%\n",
      "Finished Training\n",
      "Training chunk 6 of 6\n",
      "Model and optimizer loaded\n",
      "Loading encoded tensors and labels...\n"
     ]
    },
    {
     "name": "stderr",
     "output_type": "stream",
     "text": [
      "100%|██████████| 76/76 [00:01<00:00, 38.03it/s]\n",
      "100%|██████████| 76/76 [00:04<00:00, 18.52it/s]\n"
     ]
    },
    {
     "name": "stdout",
     "output_type": "stream",
     "text": [
      "Starting Training\n"
     ]
    },
    {
     "name": "stderr",
     "output_type": "stream",
     "text": [
      "100%|██████████| 244/244 [02:50<00:00,  1.43it/s]\n"
     ]
    },
    {
     "name": "stdout",
     "output_type": "stream",
     "text": [
      "Epoch 0 results:\n",
      "         Training_loss: 0.0521,         Val_loss: 0.0655,         Train_accuracy: 97.51%,         Val_accuracy: 97.70%\n"
     ]
    },
    {
     "name": "stderr",
     "output_type": "stream",
     "text": [
      "100%|██████████| 244/244 [02:50<00:00,  1.44it/s]\n"
     ]
    },
    {
     "name": "stdout",
     "output_type": "stream",
     "text": [
      "Epoch 1 results:\n",
      "         Training_loss: 0.0587,         Val_loss: 0.0631,         Train_accuracy: 97.75%,         Val_accuracy: 97.78%\n"
     ]
    },
    {
     "name": "stderr",
     "output_type": "stream",
     "text": [
      "100%|██████████| 244/244 [02:50<00:00,  1.43it/s]\n"
     ]
    },
    {
     "name": "stdout",
     "output_type": "stream",
     "text": [
      "Epoch 2 results:\n",
      "         Training_loss: 0.0804,         Val_loss: 0.0622,         Train_accuracy: 97.85%,         Val_accuracy: 97.82%\n"
     ]
    },
    {
     "name": "stderr",
     "output_type": "stream",
     "text": [
      "100%|██████████| 244/244 [02:50<00:00,  1.43it/s]\n"
     ]
    },
    {
     "name": "stdout",
     "output_type": "stream",
     "text": [
      "Epoch 3 results:\n",
      "         Training_loss: 0.0790,         Val_loss: 0.0625,         Train_accuracy: 97.84%,         Val_accuracy: 97.83%\n"
     ]
    },
    {
     "name": "stderr",
     "output_type": "stream",
     "text": [
      "100%|██████████| 244/244 [02:50<00:00,  1.43it/s]\n"
     ]
    },
    {
     "name": "stdout",
     "output_type": "stream",
     "text": [
      "Epoch 4 results:\n",
      "         Training_loss: 0.0584,         Val_loss: 0.0626,         Train_accuracy: 97.88%,         Val_accuracy: 97.84%\n"
     ]
    },
    {
     "name": "stderr",
     "output_type": "stream",
     "text": [
      "100%|██████████| 244/244 [02:50<00:00,  1.43it/s]\n"
     ]
    },
    {
     "name": "stdout",
     "output_type": "stream",
     "text": [
      "Epoch 5 results:\n",
      "         Training_loss: 0.0354,         Val_loss: 0.0619,         Train_accuracy: 97.91%,         Val_accuracy: 97.85%\n"
     ]
    },
    {
     "name": "stderr",
     "output_type": "stream",
     "text": [
      "100%|██████████| 244/244 [02:50<00:00,  1.44it/s]\n"
     ]
    },
    {
     "name": "stdout",
     "output_type": "stream",
     "text": [
      "Epoch 6 results:\n",
      "         Training_loss: 0.0553,         Val_loss: 0.0633,         Train_accuracy: 97.92%,         Val_accuracy: 97.83%\n"
     ]
    },
    {
     "name": "stderr",
     "output_type": "stream",
     "text": [
      "100%|██████████| 244/244 [02:50<00:00,  1.43it/s]\n"
     ]
    },
    {
     "name": "stdout",
     "output_type": "stream",
     "text": [
      "Epoch 7 results:\n",
      "         Training_loss: 0.0591,         Val_loss: 0.0629,         Train_accuracy: 97.93%,         Val_accuracy: 97.85%\n"
     ]
    },
    {
     "name": "stderr",
     "output_type": "stream",
     "text": [
      "100%|██████████| 244/244 [02:50<00:00,  1.43it/s]\n"
     ]
    },
    {
     "name": "stdout",
     "output_type": "stream",
     "text": [
      "Epoch 8 results:\n",
      "         Training_loss: 0.0471,         Val_loss: 0.0637,         Train_accuracy: 97.94%,         Val_accuracy: 97.83%\n"
     ]
    },
    {
     "name": "stderr",
     "output_type": "stream",
     "text": [
      "100%|██████████| 244/244 [02:50<00:00,  1.43it/s]\n"
     ]
    },
    {
     "name": "stdout",
     "output_type": "stream",
     "text": [
      "Epoch 9 results:\n",
      "         Training_loss: 0.0618,         Val_loss: 0.0629,         Train_accuracy: 97.95%,         Val_accuracy: 97.86%\n"
     ]
    },
    {
     "name": "stderr",
     "output_type": "stream",
     "text": [
      "100%|██████████| 244/244 [02:50<00:00,  1.43it/s]\n"
     ]
    },
    {
     "name": "stdout",
     "output_type": "stream",
     "text": [
      "Epoch 10 results:\n",
      "         Training_loss: 0.0599,         Val_loss: 0.0641,         Train_accuracy: 97.95%,         Val_accuracy: 97.84%\n"
     ]
    },
    {
     "name": "stderr",
     "output_type": "stream",
     "text": [
      "100%|██████████| 244/244 [02:50<00:00,  1.43it/s]\n"
     ]
    },
    {
     "name": "stdout",
     "output_type": "stream",
     "text": [
      "Epoch 11 results:\n",
      "         Training_loss: 0.0621,         Val_loss: 0.0646,         Train_accuracy: 97.96%,         Val_accuracy: 97.82%\n"
     ]
    },
    {
     "name": "stderr",
     "output_type": "stream",
     "text": [
      "100%|██████████| 244/244 [02:50<00:00,  1.43it/s]\n"
     ]
    },
    {
     "name": "stdout",
     "output_type": "stream",
     "text": [
      "Epoch 12 results:\n",
      "         Training_loss: 0.0527,         Val_loss: 0.0647,         Train_accuracy: 97.96%,         Val_accuracy: 97.84%\n"
     ]
    },
    {
     "name": "stderr",
     "output_type": "stream",
     "text": [
      "100%|██████████| 244/244 [02:50<00:00,  1.43it/s]\n"
     ]
    },
    {
     "name": "stdout",
     "output_type": "stream",
     "text": [
      "Epoch 13 results:\n",
      "         Training_loss: 0.0439,         Val_loss: 0.0657,         Train_accuracy: 97.98%,         Val_accuracy: 97.82%\n"
     ]
    },
    {
     "name": "stderr",
     "output_type": "stream",
     "text": [
      "100%|██████████| 244/244 [02:50<00:00,  1.43it/s]\n"
     ]
    },
    {
     "name": "stdout",
     "output_type": "stream",
     "text": [
      "Epoch 14 results:\n",
      "         Training_loss: 0.0610,         Val_loss: 0.0645,         Train_accuracy: 97.98%,         Val_accuracy: 97.84%\n"
     ]
    },
    {
     "name": "stderr",
     "output_type": "stream",
     "text": [
      "100%|██████████| 244/244 [02:50<00:00,  1.43it/s]\n"
     ]
    },
    {
     "name": "stdout",
     "output_type": "stream",
     "text": [
      "Epoch 15 results:\n",
      "         Training_loss: 0.0368,         Val_loss: 0.0685,         Train_accuracy: 97.95%,         Val_accuracy: 97.76%\n"
     ]
    },
    {
     "name": "stderr",
     "output_type": "stream",
     "text": [
      "100%|██████████| 244/244 [02:50<00:00,  1.43it/s]\n"
     ]
    },
    {
     "name": "stdout",
     "output_type": "stream",
     "text": [
      "Epoch 16 results:\n",
      "         Training_loss: 0.0548,         Val_loss: 0.0662,         Train_accuracy: 97.97%,         Val_accuracy: 97.79%\n"
     ]
    },
    {
     "name": "stderr",
     "output_type": "stream",
     "text": [
      "100%|██████████| 244/244 [02:50<00:00,  1.43it/s]\n"
     ]
    },
    {
     "name": "stdout",
     "output_type": "stream",
     "text": [
      "Epoch 17 results:\n",
      "         Training_loss: 0.0384,         Val_loss: 0.0663,         Train_accuracy: 97.96%,         Val_accuracy: 97.82%\n"
     ]
    },
    {
     "name": "stderr",
     "output_type": "stream",
     "text": [
      "100%|██████████| 244/244 [02:54<00:00,  1.40it/s]\n"
     ]
    },
    {
     "name": "stdout",
     "output_type": "stream",
     "text": [
      "Epoch 18 results:\n",
      "         Training_loss: 0.0449,         Val_loss: 0.0667,         Train_accuracy: 97.98%,         Val_accuracy: 97.82%\n"
     ]
    },
    {
     "name": "stderr",
     "output_type": "stream",
     "text": [
      "100%|██████████| 244/244 [02:55<00:00,  1.39it/s]\n"
     ]
    },
    {
     "name": "stdout",
     "output_type": "stream",
     "text": [
      "Epoch 19 results:\n",
      "         Training_loss: 0.0493,         Val_loss: 0.0668,         Train_accuracy: 97.99%,         Val_accuracy: 97.82%\n"
     ]
    },
    {
     "name": "stderr",
     "output_type": "stream",
     "text": [
      "100%|██████████| 244/244 [02:56<00:00,  1.39it/s]\n"
     ]
    },
    {
     "name": "stdout",
     "output_type": "stream",
     "text": [
      "Epoch 20 results:\n",
      "         Training_loss: 0.0543,         Val_loss: 0.0670,         Train_accuracy: 97.97%,         Val_accuracy: 97.81%\n"
     ]
    },
    {
     "name": "stderr",
     "output_type": "stream",
     "text": [
      "100%|██████████| 244/244 [02:56<00:00,  1.38it/s]\n"
     ]
    },
    {
     "name": "stdout",
     "output_type": "stream",
     "text": [
      "Epoch 21 results:\n",
      "         Training_loss: 0.0775,         Val_loss: 0.0672,         Train_accuracy: 98.00%,         Val_accuracy: 97.81%\n"
     ]
    },
    {
     "name": "stderr",
     "output_type": "stream",
     "text": [
      "100%|██████████| 244/244 [02:56<00:00,  1.39it/s]\n"
     ]
    },
    {
     "name": "stdout",
     "output_type": "stream",
     "text": [
      "Epoch 22 results:\n",
      "         Training_loss: 0.0582,         Val_loss: 0.0699,         Train_accuracy: 97.99%,         Val_accuracy: 97.76%\n"
     ]
    },
    {
     "name": "stderr",
     "output_type": "stream",
     "text": [
      "100%|██████████| 244/244 [02:56<00:00,  1.39it/s]\n"
     ]
    },
    {
     "name": "stdout",
     "output_type": "stream",
     "text": [
      "Epoch 23 results:\n",
      "         Training_loss: 0.0539,         Val_loss: 0.0683,         Train_accuracy: 97.98%,         Val_accuracy: 97.80%\n"
     ]
    },
    {
     "name": "stderr",
     "output_type": "stream",
     "text": [
      "100%|██████████| 244/244 [02:56<00:00,  1.38it/s]\n"
     ]
    },
    {
     "name": "stdout",
     "output_type": "stream",
     "text": [
      "Epoch 24 results:\n",
      "         Training_loss: 0.0553,         Val_loss: 0.0691,         Train_accuracy: 97.99%,         Val_accuracy: 97.79%\n"
     ]
    },
    {
     "name": "stderr",
     "output_type": "stream",
     "text": [
      "100%|██████████| 244/244 [02:56<00:00,  1.39it/s]\n"
     ]
    },
    {
     "name": "stdout",
     "output_type": "stream",
     "text": [
      "Epoch 25 results:\n",
      "         Training_loss: 0.0718,         Val_loss: 0.0699,         Train_accuracy: 97.98%,         Val_accuracy: 97.78%\n"
     ]
    },
    {
     "name": "stderr",
     "output_type": "stream",
     "text": [
      "100%|██████████| 244/244 [02:55<00:00,  1.39it/s]\n"
     ]
    },
    {
     "name": "stdout",
     "output_type": "stream",
     "text": [
      "Epoch 26 results:\n",
      "         Training_loss: 0.0580,         Val_loss: 0.0676,         Train_accuracy: 98.00%,         Val_accuracy: 97.81%\n"
     ]
    },
    {
     "name": "stderr",
     "output_type": "stream",
     "text": [
      "100%|██████████| 244/244 [02:55<00:00,  1.39it/s]\n"
     ]
    },
    {
     "name": "stdout",
     "output_type": "stream",
     "text": [
      "Epoch 27 results:\n",
      "         Training_loss: 0.0453,         Val_loss: 0.0689,         Train_accuracy: 97.99%,         Val_accuracy: 97.79%\n"
     ]
    },
    {
     "name": "stderr",
     "output_type": "stream",
     "text": [
      "100%|██████████| 244/244 [02:55<00:00,  1.39it/s]\n"
     ]
    },
    {
     "name": "stdout",
     "output_type": "stream",
     "text": [
      "Epoch 28 results:\n",
      "         Training_loss: 0.0640,         Val_loss: 0.0697,         Train_accuracy: 98.01%,         Val_accuracy: 97.79%\n"
     ]
    },
    {
     "name": "stderr",
     "output_type": "stream",
     "text": [
      "100%|██████████| 244/244 [02:56<00:00,  1.39it/s]"
     ]
    },
    {
     "name": "stdout",
     "output_type": "stream",
     "text": [
      "Epoch 29 results:\n",
      "         Training_loss: 0.0407,         Val_loss: 0.0694,         Train_accuracy: 97.97%,         Val_accuracy: 97.79%\n",
      "Finished Training\n"
     ]
    },
    {
     "name": "stderr",
     "output_type": "stream",
     "text": [
      "\n"
     ]
    }
   ],
   "source": [
    "prev_training = torch.load(os.path.join(REPO_ROOT, \"previous_stuff\", \"30_epochs\", \"checkpoints\", \"final_checkpoint.pth\"))\n",
    "decoder.load_state_dict(prev_training[\"model_state_dict\"])\n",
    "params.optimizer.load_state_dict(prev_training[\"optimizer_state_dict\"])\n",
    "\n",
    "for i in range(0, len(training_to_encoder_loader), params.chunk_size):\n",
    "    print(f\"Training chunk {i // params.chunk_size + 1} of {len(training_to_encoder_loader) // params.chunk_size + 1}\")\n",
    "\n",
    "    if params.training_counter > 0:\n",
    "        checkpoint = torch.load(os.path.join(checkpointsDir, f\"training_{params.training_counter - 1}_checkpoint.pth\"))\n",
    "        decoder.load_state_dict(checkpoint[\"model_state_dict\"])\n",
    "        params.optimizer.load_state_dict(checkpoint[\"optimizer_state_dict\"])\n",
    "        print(\"Model and optimizer loaded\")\n",
    "\n",
    "    print(\"Loading encoded tensors and labels...\")\n",
    "    encoded_tensors_chunk = [\n",
    "        torch.load(os.path.join(encodedTensorPath, f\"encoded_tensor_{j}.pt\")).cpu() for j in tqdm(range(i, min(i + params.chunk_size, len(training_to_encoder_loader) - 1)))\n",
    "    ]\n",
    "    encoded_labels_chunk = [\n",
    "        torch.load(os.path.join(encodedTensorPath, f\"encoded_label_{j}.pt\")).cpu() for j in tqdm(range(i, min(i + params.chunk_size, len(training_to_encoder_loader) - 1)))\n",
    "    ]\n",
    "\n",
    "    encoded_tensors = torch.cat(encoded_tensors_chunk, dim=0)\n",
    "    del encoded_tensors_chunk\n",
    "\n",
    "    encoded_labels = torch.cat(encoded_labels_chunk, dim=0)\n",
    "    del encoded_labels_chunk\n",
    "\n",
    "    dataset = TensorDataset(encoded_tensors, encoded_labels)\n",
    "    del encoded_tensors, encoded_labels\n",
    "\n",
    "    training_dataset, validation_dataset = torch.utils.data.random_split(dataset, [int(0.8 * len(dataset)), len(dataset) - int(0.8 * len(dataset))])\n",
    "\n",
    "    training_loader = DataLoader(training_dataset, batch_size=params.batchSize, shuffle=True)\n",
    "    validation_loader = DataLoader(validation_dataset, batch_size=params.batchSize, shuffle=False)\n",
    "\n",
    "    del dataset, training_dataset, validation_dataset\n",
    "\n",
    "    train(training_loader, validation_loader, training_results, params.training_counter)\n",
    "    params.training_counter += 1"
   ]
  },
  {
   "cell_type": "code",
   "execution_count": null,
   "metadata": {},
   "outputs": [],
   "source": [
    "checkpoint = torch.load(os.path.join(checkpointsDir, \"final_checkpoint.pth\"))\n",
    "model = smp.DeepLabV3(encoder_name=\"resnet34\", in_channels=3, encoder_depth=4, classes=len(class_names), encoder_weights=\"imagenet\").to(device)\n",
    "model.decoder.load_state_dict(checkpoint[\"model_state_dict\"])\n",
    "model.eval()"
   ]
  },
  {
   "cell_type": "code",
   "execution_count": null,
   "metadata": {},
   "outputs": [],
   "source": [
    "image_name = \"20181204154421_camera_frontcenter_000043949.png\"\n",
    "image_path = os.path.join(A2D2_ROOT, \"training\", \"20181204_154421\", \"camera\", \"cam_front_center\", image_name)\n",
    "label_name = image_name.replace(\"camera\", \"label\")\n",
    "label_path = os.path.join(A2D2_ROOT, \"training\", \"20181204_154421\", \"label\", \"label_frontcenter\", label_name)\n",
    "input_data = read_image(image_path, mode=image.ImageReadMode.RGB)"
   ]
  },
  {
   "cell_type": "code",
   "execution_count": null,
   "metadata": {},
   "outputs": [],
   "source": [
    "with torch.no_grad():\n",
    "    prediction = model(torch.div(params.transformation(input_data.unsqueeze(0)), 255).to(device).float())"
   ]
  },
  {
   "cell_type": "code",
   "execution_count": null,
   "metadata": {},
   "outputs": [],
   "source": [
    "class_map = torch.argmax(prediction, dim=1).squeeze().cpu().numpy()\n",
    "input_data_transposed = input_data.squeeze().permute(1, 2, 0).cpu().numpy()\n",
    "\n",
    "# Visualize the original image and the prediction\n",
    "plt.figure(figsize=(10, 5))\n",
    "\n",
    "plt.subplot(1, 2, 1)\n",
    "plt.imshow(input_data_transposed)\n",
    "plt.title(\"Original Image\")\n",
    "\n",
    "plt.subplot(1, 2, 2)\n",
    "plt.imshow(class_map)\n",
    "plt.title(\"Prediction\")\n",
    "\n",
    "plt.show()"
   ]
  }
 ],
 "metadata": {
  "kernelspec": {
   "display_name": ".venv",
   "language": "python",
   "name": "python3"
  },
  "language_info": {
   "codemirror_mode": {
    "name": "ipython",
    "version": 3
   },
   "file_extension": ".py",
   "mimetype": "text/x-python",
   "name": "python",
   "nbconvert_exporter": "python",
   "pygments_lexer": "ipython3",
   "version": "3.11.5"
  }
 },
 "nbformat": 4,
 "nbformat_minor": 2
}
